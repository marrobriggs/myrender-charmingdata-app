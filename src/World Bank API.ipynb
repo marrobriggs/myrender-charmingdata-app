{
 "cells": [
  {
   "cell_type": "code",
   "execution_count": 1,
   "metadata": {},
   "outputs": [
    {
     "name": "stderr",
     "output_type": "stream",
     "text": [
      "C:\\Users\\marro\\AppData\\Local\\Temp\\ipykernel_8752\\2704422244.py:11: UserWarning: \n",
      "The dash_core_components package is deprecated. Please replace\n",
      "`import dash_core_components as dcc` with `from dash import dcc`\n",
      "  import dash_core_components as dcc\n",
      "C:\\Users\\marro\\AppData\\Local\\Temp\\ipykernel_8752\\2704422244.py:12: UserWarning: \n",
      "The dash_html_components package is deprecated. Please replace\n",
      "`import dash_html_components as html` with `from dash import html`\n",
      "  import dash_html_components as html\n"
     ]
    }
   ],
   "source": [
    "import requests\n",
    "from bs4 import BeautifulSoup\n",
    "import pandas as pd\n",
    "import selenium\n",
    "import matplotlib.pyplot as plt\n",
    "import plotly.express as px\n",
    "import wbgapi as wb\n",
    "import numpy as np\n",
    "import dash_bootstrap_components as dbc\n",
    "from jupyter_dash import JupyterDash\n",
    "import dash_core_components as dcc\n",
    "import dash_html_components as html\n",
    "from dash.dependencies import Input, Output\n",
    "\n"
   ]
  },
  {
   "cell_type": "code",
   "execution_count": 2,
   "metadata": {},
   "outputs": [
    {
     "data": {
      "text/html": [
       "<div class=\"wbgapi\"><table>\n",
       "<thead>\n",
       "<tr><th>id  </th><th>name                                                                </th><th>code  </th><th style=\"text-align: right;\">  concepts</th><th>lastupdated  </th></tr>\n",
       "</thead>\n",
       "<tbody>\n",
       "<tr><td>1   </td><td>Doing Business                                                      </td><td>DBS   </td><td style=\"text-align: right;\">         3</td><td>2021-08-18   </td></tr>\n",
       "<tr><td>2   </td><td>World Development Indicators                                        </td><td>WDI   </td><td style=\"text-align: right;\">         3</td><td>2025-01-28   </td></tr>\n",
       "<tr><td>3   </td><td>Worldwide Governance Indicators                                     </td><td>WGI   </td><td style=\"text-align: right;\">         3</td><td>2024-11-05   </td></tr>\n",
       "<tr><td>5   </td><td>Subnational Malnutrition Database                                   </td><td>SNM   </td><td style=\"text-align: right;\">         3</td><td>2016-03-21   </td></tr>\n",
       "<tr><td>6   </td><td>International Debt Statistics                                       </td><td>IDS   </td><td style=\"text-align: right;\">         4</td><td>2024-12-03   </td></tr>\n",
       "<tr><td>11  </td><td>Africa Development Indicators                                       </td><td>ADI   </td><td style=\"text-align: right;\">         3</td><td>2013-02-22   </td></tr>\n",
       "<tr><td>12  </td><td>Education Statistics                                                </td><td>EDS   </td><td style=\"text-align: right;\">         3</td><td>2024-06-25   </td></tr>\n",
       "<tr><td>13  </td><td>Enterprise Surveys                                                  </td><td>ESY   </td><td style=\"text-align: right;\">         3</td><td>2022-03-25   </td></tr>\n",
       "<tr><td>14  </td><td>Gender Statistics                                                   </td><td>GDS   </td><td style=\"text-align: right;\">         3</td><td>2024-12-17   </td></tr>\n",
       "<tr><td>15  </td><td>Global Economic Monitor                                             </td><td>GEM   </td><td style=\"text-align: right;\">         3</td><td>2025-01-27   </td></tr>\n",
       "<tr><td>16  </td><td>Health Nutrition and Population Statistics                          </td><td>HNP   </td><td style=\"text-align: right;\">         3</td><td>2024-12-16   </td></tr>\n",
       "<tr><td>18  </td><td>IDA Results Measurement System                                      </td><td>IDA   </td><td style=\"text-align: right;\">         3</td><td>2021-07-23   </td></tr>\n",
       "<tr><td>19  </td><td>Millennium Development Goals                                        </td><td>MDG   </td><td style=\"text-align: right;\">         3</td><td>2018-09-19   </td></tr>\n",
       "<tr><td>20  </td><td>Quarterly Public Sector Debt                                        </td><td>PSD   </td><td style=\"text-align: right;\">         3</td><td>2025-01-24   </td></tr>\n",
       "<tr><td>22  </td><td>Quarterly External Debt Statistics SDDS                             </td><td>QDS   </td><td style=\"text-align: right;\">         3</td><td>2025-01-17   </td></tr>\n",
       "<tr><td>23  </td><td>Quarterly External Debt Statistics GDDS                             </td><td>QDG   </td><td style=\"text-align: right;\">         3</td><td>2025-01-17   </td></tr>\n",
       "<tr><td>25  </td><td>Jobs                                                                </td><td>JOB   </td><td style=\"text-align: right;\">         3</td><td>2024-12-16   </td></tr>\n",
       "<tr><td>27  </td><td>Global Economic Prospects                                           </td><td>GEP   </td><td style=\"text-align: right;\">         3</td><td>2025-01-16   </td></tr>\n",
       "<tr><td>28  </td><td>Global Financial Inclusion                                          </td><td>FDX   </td><td style=\"text-align: right;\">         3</td><td>2024-03-28   </td></tr>\n",
       "<tr><td>29  </td><td>The Atlas of Social Protection: Indicators of Resilience and Equity </td><td>GSP   </td><td style=\"text-align: right;\">         3</td><td>2024-02-13   </td></tr>\n",
       "<tr><td>30  </td><td>Exporter Dynamics Database – Indicators at Country-Year Level       </td><td>ED1   </td><td style=\"text-align: right;\">         3</td><td>2016-03-31   </td></tr>\n",
       "<tr><td>31  </td><td>Country Policy and Institutional Assessment                         </td><td>CPI   </td><td style=\"text-align: right;\">         3</td><td>2024-06-28   </td></tr>\n",
       "<tr><td>32  </td><td>Global Financial Development                                        </td><td>GFD   </td><td style=\"text-align: right;\">         3</td><td>2022-09-23   </td></tr>\n",
       "<tr><td>33  </td><td>G20 Financial Inclusion Indicators                                  </td><td>G2F   </td><td style=\"text-align: right;\">         3</td><td>2019-02-27   </td></tr>\n",
       "<tr><td>34  </td><td>Global Partnership for Education                                    </td><td>GPE   </td><td style=\"text-align: right;\">         3</td><td>2013-04-12   </td></tr>\n",
       "<tr><td>35  </td><td>Sustainable Energy for All                                          </td><td>SE4   </td><td style=\"text-align: right;\">         3</td><td>2018-06-30   </td></tr>\n",
       "<tr><td>37  </td><td>LAC Equity Lab                                                      </td><td>LEL   </td><td style=\"text-align: right;\">         3</td><td>2016-04-06   </td></tr>\n",
       "<tr><td>38  </td><td>Subnational Poverty                                                 </td><td>SNP   </td><td style=\"text-align: right;\">         3</td><td>2015-04-27   </td></tr>\n",
       "<tr><td>39  </td><td>Health Nutrition and Population Statistics by Wealth Quintile       </td><td>HNQ   </td><td style=\"text-align: right;\">         3</td><td>2022-12-13   </td></tr>\n",
       "<tr><td>40  </td><td>Population estimates and projections                                </td><td>HPP   </td><td style=\"text-align: right;\">         3</td><td>2024-12-16   </td></tr>\n",
       "<tr><td>41  </td><td>Country Partnership Strategy for India (FY2013 - 17)                </td><td>CPS   </td><td style=\"text-align: right;\">         3</td><td>2015-05-22   </td></tr>\n",
       "<tr><td>43  </td><td>Adjusted Net Savings                                                </td><td>WAT   </td><td style=\"text-align: right;\">         3</td><td>2023-06-08   </td></tr>\n",
       "<tr><td>45  </td><td>Indonesia Database for Policy and Economic Research                 </td><td>IDD   </td><td style=\"text-align: right;\">         3</td><td>2022-08-11   </td></tr>\n",
       "<tr><td>46  </td><td>Sustainable Development Goals                                       </td><td>SDG   </td><td style=\"text-align: right;\">         3</td><td>2022-07-22   </td></tr>\n",
       "<tr><td>50  </td><td>Subnational Population                                              </td><td>SNT   </td><td style=\"text-align: right;\">         3</td><td>2017-09-21   </td></tr>\n",
       "<tr><td>54  </td><td>Joint External Debt Hub                                             </td><td>JED   </td><td style=\"text-align: right;\">         3</td><td>2024-12-17   </td></tr>\n",
       "<tr><td>57  </td><td>WDI Database Archives                                               </td><td>WDA   </td><td style=\"text-align: right;\">         4</td><td>2023-08-10   </td></tr>\n",
       "<tr><td>58  </td><td>Universal Health Coverage                                           </td><td>UHC   </td><td style=\"text-align: right;\">         3</td><td>2019-04-25   </td></tr>\n",
       "<tr><td>59  </td><td>Wealth Accounts                                                     </td><td>WAC   </td><td style=\"text-align: right;\">         3</td><td>2024-10-08   </td></tr>\n",
       "<tr><td>60  </td><td>Economic Fitness                                                    </td><td>EFT   </td><td style=\"text-align: right;\">         3</td><td>2018-04-19   </td></tr>\n",
       "<tr><td>61  </td><td>PPPs Regulatory Quality                                             </td><td>PRQ   </td><td style=\"text-align: right;\">         3</td><td>2019-04-25   </td></tr>\n",
       "<tr><td>62  </td><td>International Comparison Program (ICP) 2011                         </td><td>ICP   </td><td style=\"text-align: right;\">         4</td><td>2020-08-24   </td></tr>\n",
       "<tr><td>63  </td><td>Human Capital Index                                                 </td><td>HCI   </td><td style=\"text-align: right;\">         3</td><td>2020-09-21   </td></tr>\n",
       "<tr><td>64  </td><td>Worldwide Bureaucracy Indicators                                    </td><td>WBI   </td><td style=\"text-align: right;\">         3</td><td>2022-09-20   </td></tr>\n",
       "<tr><td>65  </td><td>Health Equity and Financial Protection Indicators                   </td><td>HPI   </td><td style=\"text-align: right;\">         3</td><td>2019-11-06   </td></tr>\n",
       "<tr><td>66  </td><td>Logistics Performance Index                                         </td><td>LPI   </td><td style=\"text-align: right;\">         3</td><td>2024-03-26   </td></tr>\n",
       "<tr><td>67  </td><td>PEFA 2011                                                           </td><td>PF1   </td><td style=\"text-align: right;\">         4</td><td>2024-12-04   </td></tr>\n",
       "<tr><td>68  </td><td>PEFA 2016                                                           </td><td>PF6   </td><td style=\"text-align: right;\">         4</td><td>2025-01-24   </td></tr>\n",
       "<tr><td>69  </td><td>Global Financial Inclusion and Consumer Protection Survey           </td><td>RFA   </td><td style=\"text-align: right;\">         3</td><td>2019-06-27   </td></tr>\n",
       "<tr><td>70  </td><td>Economic Fitness 2                                                  </td><td>EF2   </td><td style=\"text-align: right;\">         3</td><td>2024-11-30   </td></tr>\n",
       "<tr><td>71  </td><td>International Comparison Program (ICP) 2005                         </td><td>IC5   </td><td style=\"text-align: right;\">         4</td><td>2021-09-10   </td></tr>\n",
       "<tr><td>73  </td><td>Global Financial Inclusion and Consumer Protection Survey (Internal)</td><td>RFI   </td><td style=\"text-align: right;\">         3</td><td>2019-06-27   </td></tr>\n",
       "<tr><td>75  </td><td>Environment, Social and Governance (ESG) Data                       </td><td>ESG   </td><td style=\"text-align: right;\">         3</td><td>2024-04-16   </td></tr>\n",
       "<tr><td>76  </td><td>Remittance Prices Worldwide (Sending Countries)                     </td><td>RWS   </td><td style=\"text-align: right;\">         3</td><td>2020-12-07   </td></tr>\n",
       "<tr><td>77  </td><td>Remittance Prices Worldwide (Receiving Countries)                   </td><td>RWR   </td><td style=\"text-align: right;\">         3</td><td>2020-12-07   </td></tr>\n",
       "<tr><td>78  </td><td>ICP 2017                                                            </td><td>IC7   </td><td style=\"text-align: right;\">         4</td><td>2020-10-21   </td></tr>\n",
       "<tr><td>79  </td><td>PEFA_GRPFM                                                          </td><td>GRP   </td><td style=\"text-align: right;\">         4</td><td>2025-01-24   </td></tr>\n",
       "<tr><td>80  </td><td>Gender Disaggregated Labor Database (GDLD)                          </td><td>GDL   </td><td style=\"text-align: right;\">         4</td><td>2020-07-25   </td></tr>\n",
       "<tr><td>81  </td><td>International Debt Statistics: DSSI                                 </td><td>DSI   </td><td style=\"text-align: right;\">         4</td><td>2024-12-03   </td></tr>\n",
       "<tr><td>82  </td><td>Global Public Procurement                                           </td><td>GPP   </td><td style=\"text-align: right;\">         3</td><td>2021-03-24   </td></tr>\n",
       "<tr><td>83  </td><td>Statistical Performance Indicators (SPI)                            </td><td>SPI   </td><td style=\"text-align: right;\">         3</td><td>2024-11-11   </td></tr>\n",
       "<tr><td>84  </td><td>Education Policy                                                    </td><td>EDP   </td><td style=\"text-align: right;\">         3</td><td>2024-10-03   </td></tr>\n",
       "<tr><td>85  </td><td>PEFA_2021_SNG                                                       </td><td>SNG   </td><td style=\"text-align: right;\">         4</td><td>2024-04-29   </td></tr>\n",
       "<tr><td>86  </td><td>Global Jobs Indicators Database (JOIN)                              </td><td>JON   </td><td style=\"text-align: right;\">         3</td><td>2023-05-22   </td></tr>\n",
       "<tr><td>87  </td><td>Country Climate and Development Report (CCDR)                       </td><td>CCD   </td><td style=\"text-align: right;\">         3</td><td>2022-10-07   </td></tr>\n",
       "<tr><td>88  </td><td>Food Prices for Nutrition                                           </td><td>FPN   </td><td style=\"text-align: right;\">         4</td><td>2024-12-20   </td></tr>\n",
       "<tr><td>89  </td><td>Identification for Development (ID4D) Data                          </td><td>ID4   </td><td style=\"text-align: right;\">         3</td><td>2024-12-05   </td></tr>\n",
       "<tr><td>90  </td><td>ICP 2021                                                            </td><td>IC2   </td><td style=\"text-align: right;\">         4</td><td>2024-08-04   </td></tr>\n",
       "<tr><td>91  </td><td>PEFA_CRPFM                                                          </td><td>CRP   </td><td style=\"text-align: right;\">         4</td><td>2025-01-24   </td></tr>\n",
       "<tr><td>    </td><td>69 elements                                                         </td><td>      </td><td style=\"text-align: right;\">          </td><td>             </td></tr>\n",
       "</tbody>\n",
       "</table></div>"
      ],
      "text/plain": [
       "id    name                                                                  code      concepts  lastupdated\n",
       "----  --------------------------------------------------------------------  ------  ----------  -------------\n",
       "1     Doing Business                                                        DBS              3  2021-08-18\n",
       "2     World Development Indicators                                          WDI              3  2025-01-28\n",
       "3     Worldwide Governance Indicators                                       WGI              3  2024-11-05\n",
       "5     Subnational Malnutrition Database                                     SNM              3  2016-03-21\n",
       "6     International Debt Statistics                                         IDS              4  2024-12-03\n",
       "11    Africa Development Indicators                                         ADI              3  2013-02-22\n",
       "12    Education Statistics                                                  EDS              3  2024-06-25\n",
       "13    Enterprise Surveys                                                    ESY              3  2022-03-25\n",
       "14    Gender Statistics                                                     GDS              3  2024-12-17\n",
       "15    Global Economic Monitor                                               GEM              3  2025-01-27\n",
       "16    Health Nutrition and Population Statistics                            HNP              3  2024-12-16\n",
       "18    IDA Results Measurement System                                        IDA              3  2021-07-23\n",
       "19    Millennium Development Goals                                          MDG              3  2018-09-19\n",
       "20    Quarterly Public Sector Debt                                          PSD              3  2025-01-24\n",
       "22    Quarterly External Debt Statistics SDDS                               QDS              3  2025-01-17\n",
       "23    Quarterly External Debt Statistics GDDS                               QDG              3  2025-01-17\n",
       "25    Jobs                                                                  JOB              3  2024-12-16\n",
       "27    Global Economic Prospects                                             GEP              3  2025-01-16\n",
       "28    Global Financial Inclusion                                            FDX              3  2024-03-28\n",
       "29    The Atlas of Social Protection: Indicators of Resilience and Equity   GSP              3  2024-02-13\n",
       "30    Exporter Dynamics Database – Indicators at Country-Year Level         ED1              3  2016-03-31\n",
       "31    Country Policy and Institutional Assessment                           CPI              3  2024-06-28\n",
       "32    Global Financial Development                                          GFD              3  2022-09-23\n",
       "33    G20 Financial Inclusion Indicators                                    G2F              3  2019-02-27\n",
       "34    Global Partnership for Education                                      GPE              3  2013-04-12\n",
       "35    Sustainable Energy for All                                            SE4              3  2018-06-30\n",
       "37    LAC Equity Lab                                                        LEL              3  2016-04-06\n",
       "38    Subnational Poverty                                                   SNP              3  2015-04-27\n",
       "39    Health Nutrition and Population Statistics by Wealth Quintile         HNQ              3  2022-12-13\n",
       "40    Population estimates and projections                                  HPP              3  2024-12-16\n",
       "41    Country Partnership Strategy for India (FY2013 - 17)                  CPS              3  2015-05-22\n",
       "43    Adjusted Net Savings                                                  WAT              3  2023-06-08\n",
       "45    Indonesia Database for Policy and Economic Research                   IDD              3  2022-08-11\n",
       "46    Sustainable Development Goals                                         SDG              3  2022-07-22\n",
       "50    Subnational Population                                                SNT              3  2017-09-21\n",
       "54    Joint External Debt Hub                                               JED              3  2024-12-17\n",
       "57    WDI Database Archives                                                 WDA              4  2023-08-10\n",
       "58    Universal Health Coverage                                             UHC              3  2019-04-25\n",
       "59    Wealth Accounts                                                       WAC              3  2024-10-08\n",
       "60    Economic Fitness                                                      EFT              3  2018-04-19\n",
       "61    PPPs Regulatory Quality                                               PRQ              3  2019-04-25\n",
       "62    International Comparison Program (ICP) 2011                           ICP              4  2020-08-24\n",
       "63    Human Capital Index                                                   HCI              3  2020-09-21\n",
       "64    Worldwide Bureaucracy Indicators                                      WBI              3  2022-09-20\n",
       "65    Health Equity and Financial Protection Indicators                     HPI              3  2019-11-06\n",
       "66    Logistics Performance Index                                           LPI              3  2024-03-26\n",
       "67    PEFA 2011                                                             PF1              4  2024-12-04\n",
       "68    PEFA 2016                                                             PF6              4  2025-01-24\n",
       "69    Global Financial Inclusion and Consumer Protection Survey             RFA              3  2019-06-27\n",
       "70    Economic Fitness 2                                                    EF2              3  2024-11-30\n",
       "71    International Comparison Program (ICP) 2005                           IC5              4  2021-09-10\n",
       "73    Global Financial Inclusion and Consumer Protection Survey (Internal)  RFI              3  2019-06-27\n",
       "75    Environment, Social and Governance (ESG) Data                         ESG              3  2024-04-16\n",
       "76    Remittance Prices Worldwide (Sending Countries)                       RWS              3  2020-12-07\n",
       "77    Remittance Prices Worldwide (Receiving Countries)                     RWR              3  2020-12-07\n",
       "78    ICP 2017                                                              IC7              4  2020-10-21\n",
       "79    PEFA_GRPFM                                                            GRP              4  2025-01-24\n",
       "80    Gender Disaggregated Labor Database (GDLD)                            GDL              4  2020-07-25\n",
       "81    International Debt Statistics: DSSI                                   DSI              4  2024-12-03\n",
       "82    Global Public Procurement                                             GPP              3  2021-03-24\n",
       "83    Statistical Performance Indicators (SPI)                              SPI              3  2024-11-11\n",
       "84    Education Policy                                                      EDP              3  2024-10-03\n",
       "85    PEFA_2021_SNG                                                         SNG              4  2024-04-29\n",
       "86    Global Jobs Indicators Database (JOIN)                                JON              3  2023-05-22\n",
       "87    Country Climate and Development Report (CCDR)                         CCD              3  2022-10-07\n",
       "88    Food Prices for Nutrition                                             FPN              4  2024-12-20\n",
       "89    Identification for Development (ID4D) Data                            ID4              3  2024-12-05\n",
       "90    ICP 2021                                                              IC2              4  2024-08-04\n",
       "91    PEFA_CRPFM                                                            CRP              4  2025-01-24\n",
       "      69 elements"
      ]
     },
     "execution_count": 2,
     "metadata": {},
     "output_type": "execute_result"
    }
   ],
   "source": [
    "wb.source.info()"
   ]
  },
  {
   "cell_type": "code",
   "execution_count": 3,
   "metadata": {},
   "outputs": [
    {
     "data": {
      "text/html": [
       "<div class=\"wbgapi\"><table>\n",
       "<thead>\n",
       "<tr><th>code  </th><th>name                                                 </th></tr>\n",
       "</thead>\n",
       "<tbody>\n",
       "<tr><td>AFE   </td><td>Africa Eastern and Southern                          </td></tr>\n",
       "<tr><td>AFR   </td><td>Africa                                               </td></tr>\n",
       "<tr><td>AFW   </td><td>Africa Western and Central                           </td></tr>\n",
       "<tr><td>ARB   </td><td>Arab World                                           </td></tr>\n",
       "<tr><td>CAA   </td><td>Sub-Saharan Africa (IFC classification)              </td></tr>\n",
       "<tr><td>CEA   </td><td>East Asia and the Pacific (IFC classification)       </td></tr>\n",
       "<tr><td>CEB   </td><td>Central Europe and the Baltics                       </td></tr>\n",
       "<tr><td>CEU   </td><td>Europe and Central Asia (IFC classification)         </td></tr>\n",
       "<tr><td>CLA   </td><td>Latin America and the Caribbean (IFC classification) </td></tr>\n",
       "<tr><td>CME   </td><td>Middle East and North Africa (IFC classification)    </td></tr>\n",
       "<tr><td>CSA   </td><td>South Asia (IFC classification)                      </td></tr>\n",
       "<tr><td>CSS   </td><td>Caribbean small states                               </td></tr>\n",
       "<tr><td>EAP   </td><td>East Asia &amp; Pacific (excluding high income)          </td></tr>\n",
       "<tr><td>EAR   </td><td>Early-demographic dividend                           </td></tr>\n",
       "<tr><td>EAS   </td><td>East Asia &amp; Pacific                                  </td></tr>\n",
       "<tr><td>ECA   </td><td>Europe &amp; Central Asia (excluding high income)        </td></tr>\n",
       "<tr><td>ECS   </td><td>Europe &amp; Central Asia                                </td></tr>\n",
       "<tr><td>EMU   </td><td>Euro area                                            </td></tr>\n",
       "<tr><td>EUU   </td><td>European Union                                       </td></tr>\n",
       "<tr><td>FCS   </td><td>Fragile and conflict affected situations             </td></tr>\n",
       "<tr><td>HPC   </td><td>Heavily indebted poor countries (HIPC)               </td></tr>\n",
       "<tr><td>LAC   </td><td>Latin America &amp; Caribbean (excluding high income)    </td></tr>\n",
       "<tr><td>LCN   </td><td>Latin America &amp; Caribbean                            </td></tr>\n",
       "<tr><td>LDC   </td><td>Least developed countries: UN classification         </td></tr>\n",
       "<tr><td>LTE   </td><td>Late-demographic dividend                            </td></tr>\n",
       "<tr><td>MDE   </td><td>Middle East (developing only)                        </td></tr>\n",
       "<tr><td>MEA   </td><td>Middle East &amp; North Africa                           </td></tr>\n",
       "<tr><td>MNA   </td><td>Middle East &amp; North Africa (excluding high income)   </td></tr>\n",
       "<tr><td>NAC   </td><td>North America                                        </td></tr>\n",
       "<tr><td>NAF   </td><td>North Africa                                         </td></tr>\n",
       "<tr><td>NRS   </td><td>Non-resource rich Sub-Saharan Africa countries       </td></tr>\n",
       "<tr><td>OED   </td><td>OECD members                                         </td></tr>\n",
       "<tr><td>OSS   </td><td>Other small states                                   </td></tr>\n",
       "<tr><td>PRE   </td><td>Pre-demographic dividend                             </td></tr>\n",
       "<tr><td>PSS   </td><td>Pacific island small states                          </td></tr>\n",
       "<tr><td>PST   </td><td>Post-demographic dividend                            </td></tr>\n",
       "<tr><td>RRS   </td><td>Resource rich Sub-Saharan Africa countries           </td></tr>\n",
       "<tr><td>SAS   </td><td>South Asia                                           </td></tr>\n",
       "<tr><td>SSA   </td><td>Sub-Saharan Africa (excluding high income)           </td></tr>\n",
       "<tr><td>SSF   </td><td>Sub-Saharan Africa                                   </td></tr>\n",
       "<tr><td>SST   </td><td>Small states                                         </td></tr>\n",
       "<tr><td>SXZ   </td><td>Sub-Saharan Africa excluding South Africa            </td></tr>\n",
       "<tr><td>WLD   </td><td>World                                                </td></tr>\n",
       "<tr><td>XZN   </td><td>Sub-Saharan Africa excluding South Africa and Nigeria</td></tr>\n",
       "<tr><td>      </td><td>44 elements                                          </td></tr>\n",
       "</tbody>\n",
       "</table></div>"
      ],
      "text/plain": [
       "code    name\n",
       "------  -----------------------------------------------------\n",
       "AFE     Africa Eastern and Southern\n",
       "AFR     Africa\n",
       "AFW     Africa Western and Central\n",
       "ARB     Arab World\n",
       "CAA     Sub-Saharan Africa (IFC classification)\n",
       "CEA     East Asia and the Pacific (IFC classification)\n",
       "CEB     Central Europe and the Baltics\n",
       "CEU     Europe and Central Asia (IFC classification)\n",
       "CLA     Latin America and the Caribbean (IFC classification)\n",
       "CME     Middle East and North Africa (IFC classification)\n",
       "CSA     South Asia (IFC classification)\n",
       "CSS     Caribbean small states\n",
       "EAP     East Asia & Pacific (excluding high income)\n",
       "EAR     Early-demographic dividend\n",
       "EAS     East Asia & Pacific\n",
       "ECA     Europe & Central Asia (excluding high income)\n",
       "ECS     Europe & Central Asia\n",
       "EMU     Euro area\n",
       "EUU     European Union\n",
       "FCS     Fragile and conflict affected situations\n",
       "HPC     Heavily indebted poor countries (HIPC)\n",
       "LAC     Latin America & Caribbean (excluding high income)\n",
       "LCN     Latin America & Caribbean\n",
       "LDC     Least developed countries: UN classification\n",
       "LTE     Late-demographic dividend\n",
       "MDE     Middle East (developing only)\n",
       "MEA     Middle East & North Africa\n",
       "MNA     Middle East & North Africa (excluding high income)\n",
       "NAC     North America\n",
       "NAF     North Africa\n",
       "NRS     Non-resource rich Sub-Saharan Africa countries\n",
       "OED     OECD members\n",
       "OSS     Other small states\n",
       "PRE     Pre-demographic dividend\n",
       "PSS     Pacific island small states\n",
       "PST     Post-demographic dividend\n",
       "RRS     Resource rich Sub-Saharan Africa countries\n",
       "SAS     South Asia\n",
       "SSA     Sub-Saharan Africa (excluding high income)\n",
       "SSF     Sub-Saharan Africa\n",
       "SST     Small states\n",
       "SXZ     Sub-Saharan Africa excluding South Africa\n",
       "WLD     World\n",
       "XZN     Sub-Saharan Africa excluding South Africa and Nigeria\n",
       "        44 elements"
      ]
     },
     "execution_count": 3,
     "metadata": {},
     "output_type": "execute_result"
    }
   ],
   "source": [
    "# wb.series.info()\n",
    "# wb.series.info(db=14)\n",
    "# wb.series.info(q='women')\n",
    "# wb.series.info(db=14)\n",
    "# wb.economy.info()\n",
    "# wb.time.info()\n",
    "wb.region.info()"
   ]
  },
  {
   "cell_type": "code",
   "execution_count": 4,
   "metadata": {},
   "outputs": [
    {
     "data": {
      "text/html": [
       "<div class=\"wbgapi\"><p class=\"nomatch\">No match</p></div>"
      ],
      "text/plain": [
       "No match"
      ]
     },
     "execution_count": 4,
     "metadata": {},
     "output_type": "execute_result"
    }
   ],
   "source": [
    "wb.search('pound')"
   ]
  },
  {
   "cell_type": "code",
   "execution_count": 5,
   "metadata": {},
   "outputs": [
    {
     "data": {
      "text/html": [
       "<div class=\"wbgapi\"><h4>Series: NY.GDP.MKTP.CD</h4><table>\n",
       "<thead>\n",
       "<tr><th>Field                           </th><th>Value                                                                                                                                                                                                                                                                                                                                                                                                                                                                                                                                                                                                                                                                                                                                               </th></tr>\n",
       "</thead>\n",
       "<tbody>\n",
       "<tr><td>Aggregationmethod               </td><td>Gap-filled total                                                                                                                                                                                                                                                                                                                                                                                                                                                                                                                                                                                                                                                                                                                                    </td></tr>\n",
       "<tr><td>IndicatorName                   </td><td>GDP (current US$)                                                                                                                                                                                                                                                                                                                                                                                                                                                                                                                                                                                                                                                                                                                                   </td></tr>\n",
       "<tr><td>License_Type                    </td><td>CC BY-4.0                                                                                                                                                                                                                                                                                                                                                                                                                                                                                                                                                                                                                                                                                                                                           </td></tr>\n",
       "<tr><td>License_URL                     </td><td>https://datacatalog.worldbank.org/public-licenses#cc-by                                                                                                                                                                                                                                                                                                                                                                                                                                                                                                                                                                                                                                                                                             </td></tr>\n",
       "<tr><td>Limitationsandexceptions        </td><td>Gross domestic product (GDP), though widely tracked, may not always be the most relevant summary of aggregated economic performance for all economies, especially when production occurs at the expense of consuming capital stock.\n",
       "\n",
       "While GDP estimates based on the production approach are generally more reliable than estimates compiled from the income or expenditure side, different countries use different definitions, methods, and reporting standards. World Bank staff review the quality of national accounts data and sometimes make adjustments to improve consistency with international guidelines. Nevertheless, significant discrepancies remain between international standards and actual practice. Many statistical offices, especially those in developing countries, face severe limitations in the resources, time, training, and budgets required to produce reliable and comprehensive series of national accounts statistics.\n",
       "\n",
       "Among the difficulties faced by compilers of national accounts is the extent of unreported economic activity in the informal or secondary economy. In developing countries a large share of agricultural output is either not exchanged (because it is consumed within the household) or not exchanged for money.                                                                                                                                                                                                                                                                                                                                                                                                                                                                                                                                                                                                                                                                                                                                                     </td></tr>\n",
       "<tr><td>Longdefinition                  </td><td>GDP at purchaser&#x27;s prices is the sum of gross value added by all resident producers in the economy plus any product taxes and minus any subsidies not included in the value of the products. It is calculated without making deductions for depreciation of fabricated assets or for depletion and degradation of natural resources. Data are in current U.S. dollars. Dollar figures for GDP are converted from domestic currencies using single year official exchange rates. For a few countries where the official exchange rate does not reflect the rate effectively applied to actual foreign exchange transactions, an alternative conversion factor is used.                                                                               </td></tr>\n",
       "<tr><td>Periodicity                     </td><td>Annual                                                                                                                                                                                                                                                                                                                                                                                                                                                                                                                                                                                                                                                                                                                                              </td></tr>\n",
       "<tr><td>Source                          </td><td>World Bank national accounts data, and OECD National Accounts data files.                                                                                                                                                                                                                                                                                                                                                                                                                                                                                                                                                                                                                                                                           </td></tr>\n",
       "<tr><td>Statisticalconceptandmethodology</td><td>Gross domestic product (GDP) represents the sum of value added by all its producers. Value added is the value of the gross output of producers less the value of intermediate goods and services consumed in production, before accounting for consumption of fixed capital in production. The United Nations System of National Accounts calls for value added to be valued at either basic prices (excluding net taxes on products) or producer prices (including net taxes on products paid by producers but excluding sales or value added taxes). Both valuations exclude transport charges that are invoiced separately by producers. Total GDP is measured at purchaser prices. Value added by industry is normally measured at basic prices.</td></tr>\n",
       "<tr><td>Topic                           </td><td>Economic Policy &amp; Debt: National accounts: US$ at current prices: Aggregate indicators                                                                                                                                                                                                                                                                                                                                                                                                                                                                                                                                                                                                                                                              </td></tr>\n",
       "</tbody>\n",
       "</table></div>"
      ],
      "text/plain": [
       "========\n",
       "Series: NY.GDP.MKTP.CD\n",
       "\n",
       "Aggregationmethod: Gap-filled total\n",
       "--------\n",
       "IndicatorName: GDP (current US$)\n",
       "--------\n",
       "License_Type: CC BY-4.0\n",
       "--------\n",
       "License_URL: https://datacatalog.worldbank.org/public-licenses#cc-by\n",
       "--------\n",
       "Limitationsandexceptions: Gross domestic product (GDP), though widely tracked, may not always be the most relevant summary of aggregated economic performance for all economies, especially when production occurs at the expense of consuming capital stock.\n",
       "\n",
       "While GDP estimates based on the production approach are generally more reliable than estimates compiled from the income or expenditure side, different countries use different definitions, methods, and reporting standards. World Bank staff review the quality of national accounts data and sometimes make adjustments to improve consistency with international guidelines. Nevertheless, significant discrepancies remain between international standards and actual practice. Many statistical offices, especially those in developing countries, face severe limitations in the resources, time, training, and budgets required to produce reliable and comprehensive series of national accounts statistics.\n",
       "\n",
       "Among the difficulties faced by compilers of national accounts is the extent of unreported economic activity in the informal or secondary economy. In developing countries a large share of agricultural output is either not exchanged (because it is consumed within the household) or not exchanged for money.\n",
       "--------\n",
       "Longdefinition: GDP at purchaser's prices is the sum of gross value added by all resident producers in the economy plus any product taxes and minus any subsidies not included in the value of the products. It is calculated without making deductions for depreciation of fabricated assets or for depletion and degradation of natural resources. Data are in current U.S. dollars. Dollar figures for GDP are converted from domestic currencies using single year official exchange rates. For a few countries where the official exchange rate does not reflect the rate effectively applied to actual foreign exchange transactions, an alternative conversion factor is used.\n",
       "--------\n",
       "Periodicity: Annual\n",
       "--------\n",
       "Source: World Bank national accounts data, and OECD National Accounts data files.\n",
       "--------\n",
       "Statisticalconceptandmethodology: Gross domestic product (GDP) represents the sum of value added by all its producers. Value added is the value of the gross output of producers less the value of intermediate goods and services consumed in production, before accounting for consumption of fixed capital in production. The United Nations System of National Accounts calls for value added to be valued at either basic prices (excluding net taxes on products) or producer prices (including net taxes on products paid by producers but excluding sales or value added taxes). Both valuations exclude transport charges that are invoiced separately by producers. Total GDP is measured at purchaser prices. Value added by industry is normally measured at basic prices.\n",
       "--------\n",
       "Topic: Economic Policy & Debt: National accounts: US$ at current prices: Aggregate indicators"
      ]
     },
     "execution_count": 5,
     "metadata": {},
     "output_type": "execute_result"
    }
   ],
   "source": [
    "wb.series.metadata.get('NY.GDP.MKTP.CD')"
   ]
  },
  {
   "cell_type": "code",
   "execution_count": 6,
   "metadata": {},
   "outputs": [
    {
     "data": {
      "text/html": [
       "<div>\n",
       "<style scoped>\n",
       "    .dataframe tbody tr th:only-of-type {\n",
       "        vertical-align: middle;\n",
       "    }\n",
       "\n",
       "    .dataframe tbody tr th {\n",
       "        vertical-align: top;\n",
       "    }\n",
       "\n",
       "    .dataframe thead th {\n",
       "        text-align: right;\n",
       "    }\n",
       "</style>\n",
       "<table border=\"1\" class=\"dataframe\">\n",
       "  <thead>\n",
       "    <tr style=\"text-align: right;\">\n",
       "      <th></th>\n",
       "      <th></th>\n",
       "      <th>YR2010</th>\n",
       "      <th>YR2011</th>\n",
       "      <th>YR2012</th>\n",
       "      <th>YR2013</th>\n",
       "      <th>YR2014</th>\n",
       "    </tr>\n",
       "    <tr>\n",
       "      <th>economy</th>\n",
       "      <th>series</th>\n",
       "      <th></th>\n",
       "      <th></th>\n",
       "      <th></th>\n",
       "      <th></th>\n",
       "      <th></th>\n",
       "    </tr>\n",
       "  </thead>\n",
       "  <tbody>\n",
       "    <tr>\n",
       "      <th rowspan=\"2\" valign=\"top\">ARG</th>\n",
       "      <th>NY.GDP.PCAP.CD</th>\n",
       "      <td>1.026013e+04</td>\n",
       "      <td>1.270428e+04</td>\n",
       "      <td>1.294972e+04</td>\n",
       "      <td>1.296368e+04</td>\n",
       "      <td>1.223314e+04</td>\n",
       "    </tr>\n",
       "    <tr>\n",
       "      <th>SP.POP.TOTL</th>\n",
       "      <td>4.128869e+07</td>\n",
       "      <td>4.173066e+07</td>\n",
       "      <td>4.216172e+07</td>\n",
       "      <td>4.258246e+07</td>\n",
       "      <td>4.302407e+07</td>\n",
       "    </tr>\n",
       "    <tr>\n",
       "      <th rowspan=\"2\" valign=\"top\">BRA</th>\n",
       "      <th>NY.GDP.PCAP.CD</th>\n",
       "      <td>1.140328e+04</td>\n",
       "      <td>1.339662e+04</td>\n",
       "      <td>1.252172e+04</td>\n",
       "      <td>1.245889e+04</td>\n",
       "      <td>1.227499e+04</td>\n",
       "    </tr>\n",
       "    <tr>\n",
       "      <th>SP.POP.TOTL</th>\n",
       "      <td>1.937019e+08</td>\n",
       "      <td>1.952847e+08</td>\n",
       "      <td>1.968761e+08</td>\n",
       "      <td>1.984783e+08</td>\n",
       "      <td>2.000851e+08</td>\n",
       "    </tr>\n",
       "    <tr>\n",
       "      <th rowspan=\"2\" valign=\"top\">COL</th>\n",
       "      <th>NY.GDP.PCAP.CD</th>\n",
       "      <td>6.398296e+03</td>\n",
       "      <td>7.400994e+03</td>\n",
       "      <td>8.108598e+03</td>\n",
       "      <td>8.279103e+03</td>\n",
       "      <td>8.187208e+03</td>\n",
       "    </tr>\n",
       "    <tr>\n",
       "      <th>SP.POP.TOTL</th>\n",
       "      <td>4.477732e+07</td>\n",
       "      <td>4.525961e+07</td>\n",
       "      <td>4.571581e+07</td>\n",
       "      <td>4.615158e+07</td>\n",
       "      <td>4.656543e+07</td>\n",
       "    </tr>\n",
       "  </tbody>\n",
       "</table>\n",
       "</div>"
      ],
      "text/plain": [
       "                              YR2010        YR2011        YR2012  \\\n",
       "economy series                                                     \n",
       "ARG     NY.GDP.PCAP.CD  1.026013e+04  1.270428e+04  1.294972e+04   \n",
       "        SP.POP.TOTL     4.128869e+07  4.173066e+07  4.216172e+07   \n",
       "BRA     NY.GDP.PCAP.CD  1.140328e+04  1.339662e+04  1.252172e+04   \n",
       "        SP.POP.TOTL     1.937019e+08  1.952847e+08  1.968761e+08   \n",
       "COL     NY.GDP.PCAP.CD  6.398296e+03  7.400994e+03  8.108598e+03   \n",
       "        SP.POP.TOTL     4.477732e+07  4.525961e+07  4.571581e+07   \n",
       "\n",
       "                              YR2013        YR2014  \n",
       "economy series                                      \n",
       "ARG     NY.GDP.PCAP.CD  1.296368e+04  1.223314e+04  \n",
       "        SP.POP.TOTL     4.258246e+07  4.302407e+07  \n",
       "BRA     NY.GDP.PCAP.CD  1.245889e+04  1.227499e+04  \n",
       "        SP.POP.TOTL     1.984783e+08  2.000851e+08  \n",
       "COL     NY.GDP.PCAP.CD  8.279103e+03  8.187208e+03  \n",
       "        SP.POP.TOTL     4.615158e+07  4.656543e+07  "
      ]
     },
     "execution_count": 6,
     "metadata": {},
     "output_type": "execute_result"
    }
   ],
   "source": [
    "wb.data.DataFrame(['SP.POP.TOTL','NY.GDP.PCAP.CD'],\n",
    "                  ['BRA','COL','ARG'], range(2010,2015))"
   ]
  },
  {
   "cell_type": "code",
   "execution_count": 7,
   "metadata": {},
   "outputs": [
    {
     "data": {
      "text/plain": [
       "<Axes: title={'center': 'Income growth in South Asia'}>"
      ]
     },
     "execution_count": 7,
     "metadata": {},
     "output_type": "execute_result"
    },
    {
     "data": {
      "image/png": "[encoded data removed]",
      "text/plain": [
       "<Figure size 1000x600 with 1 Axes>"
      ]
     },
     "metadata": {},
     "output_type": "display_data"
    }
   ],
   "source": [
    "wb.data.DataFrame('NY.GDP.PCAP.CD',\n",
    "                  economy=wb.region.members('SAS'),\n",
    "                  time=range(2000,2016), numericTimeKeys=True,\n",
    "                  labels=True).set_index('Country').transpose().plot(title='Income growth in South Asia', figsize=(10,6))\n",
    "                  "
   ]
  },
  {
   "cell_type": "code",
   "execution_count": 8,
   "metadata": {},
   "outputs": [
    {
     "data": {
      "application/vnd.plotly.v1+json": {
       "config": {
        "plotlyServerURL": "https://plot.ly"
       },
       "data": [
        {
         "hovertemplate": "Country=Bhutan<br>Year=%{x}<br>GDP Per Capita (Current USD)=%{y}<extra></extra>",
         "legendgroup": "Bhutan",
         "line": {
          "color": "#636efa",
          "dash": "solid"
         },
         "marker": {
          "symbol": "circle"
         },
         "mode": "lines",
         "name": "Bhutan",
         "orientation": "v",
         "showlegend": true,
         "type": "scatter",
         "x": [
          2000,
          2001,
          2002,
          2003,
          2004,
          2005,
          2006,
          2007,
          2008,
          2009,
          2010,
          2011,
          2012,
          2013,
          2014,
          2015
         ],
         "xaxis": "x",
         "y": [
          771.924911410619,
          812.238210772056,
          895.799489930972,
          1022.38240311018,
          1130.35934606796,
          1299.94938578359,
          1405.6071618158,
          1850.41570433398,
          1919.59774896395,
          1918.39599211093,
          2435.57980661188,
          2787.97967689425,
          2751.21288653263,
          2679.95217216983,
          2849.49998659935,
          2954.04081973327
         ],
         "yaxis": "y"
        },
        {
         "hovertemplate": "Country=Bangladesh<br>Year=%{x}<br>GDP Per Capita (Current USD)=%{y}<extra></extra>",
         "legendgroup": "Bangladesh",
         "line": {
          "color": "#EF553B",
          "dash": "solid"
         },
         "marker": {
          "symbol": "circle"
         },
         "mode": "lines",
         "name": "Bangladesh",
         "orientation": "v",
         "showlegend": true,
         "type": "scatter",
         "x": [
          2000,
          2001,
          2002,
          2003,
          2004,
          2005,
          2006,
          2007,
          2008,
          2009,
          2010,
          2011,
          2012,
          2013,
          2014,
          2015
         ],
         "xaxis": "x",
         "y": [
          396.670730249751,
          394.65641001891,
          393.886422327628,
          426.74880754362,
          455.614016909798,
          480.08585075452,
          490.388026533289,
          537.955492792911,
          613.06204104124,
          679.211477428056,
          757.385280361508,
          837.336944695647,
          859.680536375497,
          958.262989798283,
          1094.46199702838,
          1224.38647668165
         ],
         "yaxis": "y"
        },
        {
         "hovertemplate": "Country=Nepal<br>Year=%{x}<br>GDP Per Capita (Current USD)=%{y}<extra></extra>",
         "legendgroup": "Nepal",
         "line": {
          "color": "#00cc96",
          "dash": "solid"
         },
         "marker": {
          "symbol": "circle"
         },
         "mode": "lines",
         "name": "Nepal",
         "orientation": "v",
         "showlegend": true,
         "type": "scatter",
         "x": [
          2000,
          2001,
          2002,
          2003,
          2004,
          2005,
          2006,
          2007,
          2008,
          2009,
          2010,
          2011,
          2012,
          2013,
          2014,
          2015
         ],
         "xaxis": "x",
         "y": [
          223.830289183078,
          240.795114544664,
          238.89140296106,
          246.429706587633,
          279.587750044428,
          309.024168339372,
          340.431796437968,
          385.449767660642,
          464.817391891529,
          473.078751198621,
          585.278491984574,
          785.518656222132,
          788.202937148377,
          803.269595420477,
          821.455224911731,
          875.543635474862
         ],
         "yaxis": "y"
        },
        {
         "hovertemplate": "Country=Pakistan<br>Year=%{x}<br>GDP Per Capita (Current USD)=%{y}<extra></extra>",
         "legendgroup": "Pakistan",
         "line": {
          "color": "#ab63fa",
          "dash": "solid"
         },
         "marker": {
          "symbol": "circle"
         },
         "mode": "lines",
         "name": "Pakistan",
         "orientation": "v",
         "showlegend": true,
         "type": "scatter",
         "x": [
          2000,
          2001,
          2002,
          2003,
          2004,
          2005,
          2006,
          2007,
          2008,
          2009,
          2010,
          2011,
          2012,
          2013,
          2014,
          2015
         ],
         "xaxis": "x",
         "y": [
          642.338346499898,
          609.939506905073,
          599.937345723927,
          672.44178669894,
          771.902247348954,
          827.619861189926,
          900.873564984808,
          998.090114197524,
          1067.04324565284,
          963.788066395225,
          987.304571124485,
          1131.73513834324,
          1204.36475491585,
          1225.4340119198,
          1266.61340849959,
          1380.47020838317
         ],
         "yaxis": "y"
        },
        {
         "hovertemplate": "Country=India<br>Year=%{x}<br>GDP Per Capita (Current USD)=%{y}<extra></extra>",
         "legendgroup": "India",
         "line": {
          "color": "#FFA15A",
          "dash": "solid"
         },
         "marker": {
          "symbol": "circle"
         },
         "mode": "lines",
         "name": "India",
         "orientation": "v",
         "showlegend": true,
         "type": "scatter",
         "x": [
          2000,
          2001,
          2002,
          2003,
          2004,
          2005,
          2006,
          2007,
          2008,
          2009,
          2010,
          2011,
          2012,
          2013,
          2014,
          2015
         ],
         "xaxis": "x",
         "y": [
          442.750218937263,
          450.357900514128,
          469.149928973927,
          544.143133545002,
          624.258826510066,
          710.488080408949,
          801.668353659022,
          1021.88707706826,
          992.519584923828,
          1094.94974598436,
          1347.51939071367,
          1445.46127486037,
          1429.32199520032,
          1432.84397512195,
          1553.88396075118,
          1583.99815907985
         ],
         "yaxis": "y"
        },
        {
         "hovertemplate": "Country=Sri Lanka<br>Year=%{x}<br>GDP Per Capita (Current USD)=%{y}<extra></extra>",
         "legendgroup": "Sri Lanka",
         "line": {
          "color": "#19d3f3",
          "dash": "solid"
         },
         "marker": {
          "symbol": "circle"
         },
         "mode": "lines",
         "name": "Sri Lanka",
         "orientation": "v",
         "showlegend": true,
         "type": "scatter",
         "x": [
          2000,
          2001,
          2002,
          2003,
          2004,
          2005,
          2006,
          2007,
          2008,
          2009,
          2010,
          2011,
          2012,
          2013,
          2014,
          2015
         ],
         "xaxis": "x",
         "y": [
          846.460813304966,
          803.544026627385,
          834.936014905338,
          946.382255128072,
          1028.62068132555,
          1207.21994764165,
          1389.50625583936,
          1578.63451125392,
          1973.58476901287,
          2026.65939950702,
          2808.36779237408,
          3224.95736331928,
          3327.77612404326,
          3740.61589348326,
          3971.91913148166,
          4060.13139670248
         ],
         "yaxis": "y"
        },
        {
         "hovertemplate": "Country=Afghanistan<br>Year=%{x}<br>GDP Per Capita (Current USD)=%{y}<extra></extra>",
         "legendgroup": "Afghanistan",
         "line": {
          "color": "#FF6692",
          "dash": "solid"
         },
         "marker": {
          "symbol": "circle"
         },
         "mode": "lines",
         "name": "Afghanistan",
         "orientation": "v",
         "showlegend": true,
         "type": "scatter",
         "x": [
          2000,
          2001,
          2002,
          2003,
          2004,
          2005,
          2006,
          2007,
          2008,
          2009,
          2010,
          2011,
          2012,
          2013,
          2014,
          2015
         ],
         "xaxis": "x",
         "y": [
          174.930991430166,
          138.706821676113,
          178.954088379235,
          198.871115728727,
          221.763653873013,
          254.184249149336,
          274.218553561575,
          376.223152003876,
          381.73323802844,
          452.053705477043,
          560.621505463146,
          606.694676337726,
          651.417134470046,
          637.087099117099,
          625.054941813938,
          565.569730408751
         ],
         "yaxis": "y"
        },
        {
         "hovertemplate": "Country=Maldives<br>Year=%{x}<br>GDP Per Capita (Current USD)=%{y}<extra></extra>",
         "legendgroup": "Maldives",
         "line": {
          "color": "#B6E880",
          "dash": "solid"
         },
         "marker": {
          "symbol": "circle"
         },
         "mode": "lines",
         "name": "Maldives",
         "orientation": "v",
         "showlegend": true,
         "type": "scatter",
         "x": [
          2000,
          2001,
          2002,
          2003,
          2004,
          2005,
          2006,
          2007,
          2008,
          2009,
          2010,
          2011,
          2012,
          2013,
          2014,
          2015
         ],
         "xaxis": "x",
         "y": [
          2213.81235053178,
          3033.93234507036,
          3076.07007160101,
          3548.5767011056,
          4070.2609459446,
          3796.51546524644,
          5018.94335409159,
          5758.10286933053,
          6757.43280929292,
          6734.03165601895,
          7173.59601844692,
          7424.520410971,
          7461.29703686309,
          8236.08177944126,
          8939.07416571472,
          9644.90655028145
         ],
         "yaxis": "y"
        }
       ],
       "layout": {
        "height": 600,
        "legend": {
         "title": {
          "text": "Country"
         },
         "tracegroupgap": 0
        },
        "template": {
         "data": {
          "bar": [
           {
            "error_x": {
             "color": "#2a3f5f"
            },
            "error_y": {
             "color": "#2a3f5f"
            },
            "marker": {
             "line": {
              "color": "#E5ECF6",
              "width": 0.5
             },
             "pattern": {
              "fillmode": "overlay",
              "size": 10,
              "solidity": 0.2
             }
            },
            "type": "bar"
           }
          ],
          "barpolar": [
           {
            "marker": {
             "line": {
              "color": "#E5ECF6",
              "width": 0.5
             },
             "pattern": {
              "fillmode": "overlay",
              "size": 10,
              "solidity": 0.2
             }
            },
            "type": "barpolar"
           }
          ],
          "carpet": [
           {
            "aaxis": {
             "endlinecolor": "#2a3f5f",
             "gridcolor": "white",
             "linecolor": "white",
             "minorgridcolor": "white",
             "startlinecolor": "#2a3f5f"
            },
            "baxis": {
             "endlinecolor": "#2a3f5f",
             "gridcolor": "white",
             "linecolor": "white",
             "minorgridcolor": "white",
             "startlinecolor": "#2a3f5f"
            },
            "type": "carpet"
           }
          ],
          "choropleth": [
           {
            "colorbar": {
             "outlinewidth": 0,
             "ticks": ""
            },
            "type": "choropleth"
           }
          ],
          "contour": [
           {
            "colorbar": {
             "outlinewidth": 0,
             "ticks": ""
            },
            "colorscale": [
             [
              0,
              "#0d0887"
             ],
             [
              0.1111111111111111,
              "#46039f"
             ],
             [
              0.2222222222222222,
              "#7201a8"
             ],
             [
              0.3333333333333333,
              "#9c179e"
             ],
             [
              0.4444444444444444,
              "#bd3786"
             ],
             [
              0.5555555555555556,
              "#d8576b"
             ],
             [
              0.6666666666666666,
              "#ed7953"
             ],
             [
              0.7777777777777778,
              "#fb9f3a"
             ],
             [
              0.8888888888888888,
              "#fdca26"
             ],
             [
              1,
              "#f0f921"
             ]
            ],
            "type": "contour"
           }
          ],
          "contourcarpet": [
           {
            "colorbar": {
             "outlinewidth": 0,
             "ticks": ""
            },
            "type": "contourcarpet"
           }
          ],
          "heatmap": [
           {
            "colorbar": {
             "outlinewidth": 0,
             "ticks": ""
            },
            "colorscale": [
             [
              0,
              "#0d0887"
             ],
             [
              0.1111111111111111,
              "#46039f"
             ],
             [
              0.2222222222222222,
              "#7201a8"
             ],
             [
              0.3333333333333333,
              "#9c179e"
             ],
             [
              0.4444444444444444,
              "#bd3786"
             ],
             [
              0.5555555555555556,
              "#d8576b"
             ],
             [
              0.6666666666666666,
              "#ed7953"
             ],
             [
              0.7777777777777778,
              "#fb9f3a"
             ],
             [
              0.8888888888888888,
              "#fdca26"
             ],
             [
              1,
              "#f0f921"
             ]
            ],
            "type": "heatmap"
           }
          ],
          "heatmapgl": [
           {
            "colorbar": {
             "outlinewidth": 0,
             "ticks": ""
            },
            "colorscale": [
             [
              0,
              "#0d0887"
             ],
             [
              0.1111111111111111,
              "#46039f"
             ],
             [
              0.2222222222222222,
              "#7201a8"
             ],
             [
              0.3333333333333333,
              "#9c179e"
             ],
             [
              0.4444444444444444,
              "#bd3786"
             ],
             [
              0.5555555555555556,
              "#d8576b"
             ],
             [
              0.6666666666666666,
              "#ed7953"
             ],
             [
              0.7777777777777778,
              "#fb9f3a"
             ],
             [
              0.8888888888888888,
              "#fdca26"
             ],
             [
              1,
              "#f0f921"
             ]
            ],
            "type": "heatmapgl"
           }
          ],
          "histogram": [
           {
            "marker": {
             "pattern": {
              "fillmode": "overlay",
              "size": 10,
              "solidity": 0.2
             }
            },
            "type": "histogram"
           }
          ],
          "histogram2d": [
           {
            "colorbar": {
             "outlinewidth": 0,
             "ticks": ""
            },
            "colorscale": [
             [
              0,
              "#0d0887"
             ],
             [
              0.1111111111111111,
              "#46039f"
             ],
             [
              0.2222222222222222,
              "#7201a8"
             ],
             [
              0.3333333333333333,
              "#9c179e"
             ],
             [
              0.4444444444444444,
              "#bd3786"
             ],
             [
              0.5555555555555556,
              "#d8576b"
             ],
             [
              0.6666666666666666,
              "#ed7953"
             ],
             [
              0.7777777777777778,
              "#fb9f3a"
             ],
             [
              0.8888888888888888,
              "#fdca26"
             ],
             [
              1,
              "#f0f921"
             ]
            ],
            "type": "histogram2d"
           }
          ],
          "histogram2dcontour": [
           {
            "colorbar": {
             "outlinewidth": 0,
             "ticks": ""
            },
            "colorscale": [
             [
              0,
              "#0d0887"
             ],
             [
              0.1111111111111111,
              "#46039f"
             ],
             [
              0.2222222222222222,
              "#7201a8"
             ],
             [
              0.3333333333333333,
              "#9c179e"
             ],
             [
              0.4444444444444444,
              "#bd3786"
             ],
             [
              0.5555555555555556,
              "#d8576b"
             ],
             [
              0.6666666666666666,
              "#ed7953"
             ],
             [
              0.7777777777777778,
              "#fb9f3a"
             ],
             [
              0.8888888888888888,
              "#fdca26"
             ],
             [
              1,
              "#f0f921"
             ]
            ],
            "type": "histogram2dcontour"
           }
          ],
          "mesh3d": [
           {
            "colorbar": {
             "outlinewidth": 0,
             "ticks": ""
            },
            "type": "mesh3d"
           }
          ],
          "parcoords": [
           {
            "line": {
             "colorbar": {
              "outlinewidth": 0,
              "ticks": ""
             }
            },
            "type": "parcoords"
           }
          ],
          "pie": [
           {
            "automargin": true,
            "type": "pie"
           }
          ],
          "scatter": [
           {
            "fillpattern": {
             "fillmode": "overlay",
             "size": 10,
             "solidity": 0.2
            },
            "type": "scatter"
           }
          ],
          "scatter3d": [
           {
            "line": {
             "colorbar": {
              "outlinewidth": 0,
              "ticks": ""
             }
            },
            "marker": {
             "colorbar": {
              "outlinewidth": 0,
              "ticks": ""
             }
            },
            "type": "scatter3d"
           }
          ],
          "scattercarpet": [
           {
            "marker": {
             "colorbar": {
              "outlinewidth": 0,
              "ticks": ""
             }
            },
            "type": "scattercarpet"
           }
          ],
          "scattergeo": [
           {
            "marker": {
             "colorbar": {
              "outlinewidth": 0,
              "ticks": ""
             }
            },
            "type": "scattergeo"
           }
          ],
          "scattergl": [
           {
            "marker": {
             "colorbar": {
              "outlinewidth": 0,
              "ticks": ""
             }
            },
            "type": "scattergl"
           }
          ],
          "scattermapbox": [
           {
            "marker": {
             "colorbar": {
              "outlinewidth": 0,
              "ticks": ""
             }
            },
            "type": "scattermapbox"
           }
          ],
          "scatterpolar": [
           {
            "marker": {
             "colorbar": {
              "outlinewidth": 0,
              "ticks": ""
             }
            },
            "type": "scatterpolar"
           }
          ],
          "scatterpolargl": [
           {
            "marker": {
             "colorbar": {
              "outlinewidth": 0,
              "ticks": ""
             }
            },
            "type": "scatterpolargl"
           }
          ],
          "scatterternary": [
           {
            "marker": {
             "colorbar": {
              "outlinewidth": 0,
              "ticks": ""
             }
            },
            "type": "scatterternary"
           }
          ],
          "surface": [
           {
            "colorbar": {
             "outlinewidth": 0,
             "ticks": ""
            },
            "colorscale": [
             [
              0,
              "#0d0887"
             ],
             [
              0.1111111111111111,
              "#46039f"
             ],
             [
              0.2222222222222222,
              "#7201a8"
             ],
             [
              0.3333333333333333,
              "#9c179e"
             ],
             [
              0.4444444444444444,
              "#bd3786"
             ],
             [
              0.5555555555555556,
              "#d8576b"
             ],
             [
              0.6666666666666666,
              "#ed7953"
             ],
             [
              0.7777777777777778,
              "#fb9f3a"
             ],
             [
              0.8888888888888888,
              "#fdca26"
             ],
             [
              1,
              "#f0f921"
             ]
            ],
            "type": "surface"
           }
          ],
          "table": [
           {
            "cells": {
             "fill": {
              "color": "#EBF0F8"
             },
             "line": {
              "color": "white"
             }
            },
            "header": {
             "fill": {
              "color": "#C8D4E3"
             },
             "line": {
              "color": "white"
             }
            },
            "type": "table"
           }
          ]
         },
         "layout": {
          "annotationdefaults": {
           "arrowcolor": "#2a3f5f",
           "arrowhead": 0,
           "arrowwidth": 1
          },
          "autotypenumbers": "strict",
          "coloraxis": {
           "colorbar": {
            "outlinewidth": 0,
            "ticks": ""
           }
          },
          "colorscale": {
           "diverging": [
            [
             0,
             "#8e0152"
            ],
            [
             0.1,
             "#c51b7d"
            ],
            [
             0.2,
             "#de77ae"
            ],
            [
             0.3,
             "#f1b6da"
            ],
            [
             0.4,
             "#fde0ef"
            ],
            [
             0.5,
             "#f7f7f7"
            ],
            [
             0.6,
             "#e6f5d0"
            ],
            [
             0.7,
             "#b8e186"
            ],
            [
             0.8,
             "#7fbc41"
            ],
            [
             0.9,
             "#4d9221"
            ],
            [
             1,
             "#276419"
            ]
           ],
           "sequential": [
            [
             0,
             "#0d0887"
            ],
            [
             0.1111111111111111,
             "#46039f"
            ],
            [
             0.2222222222222222,
             "#7201a8"
            ],
            [
             0.3333333333333333,
             "#9c179e"
            ],
            [
             0.4444444444444444,
             "#bd3786"
            ],
            [
             0.5555555555555556,
             "#d8576b"
            ],
            [
             0.6666666666666666,
             "#ed7953"
            ],
            [
             0.7777777777777778,
             "#fb9f3a"
            ],
            [
             0.8888888888888888,
             "#fdca26"
            ],
            [
             1,
             "#f0f921"
            ]
           ],
           "sequentialminus": [
            [
             0,
             "#0d0887"
            ],
            [
             0.1111111111111111,
             "#46039f"
            ],
            [
             0.2222222222222222,
             "#7201a8"
            ],
            [
             0.3333333333333333,
             "#9c179e"
            ],
            [
             0.4444444444444444,
             "#bd3786"
            ],
            [
             0.5555555555555556,
             "#d8576b"
            ],
            [
             0.6666666666666666,
             "#ed7953"
            ],
            [
             0.7777777777777778,
             "#fb9f3a"
            ],
            [
             0.8888888888888888,
             "#fdca26"
            ],
            [
             1,
             "#f0f921"
            ]
           ]
          },
          "colorway": [
           "#636efa",
           "#EF553B",
           "#00cc96",
           "#ab63fa",
           "#FFA15A",
           "#19d3f3",
           "#FF6692",
           "#B6E880",
           "#FF97FF",
           "#FECB52"
          ],
          "font": {
           "color": "#2a3f5f"
          },
          "geo": {
           "bgcolor": "white",
           "lakecolor": "white",
           "landcolor": "#E5ECF6",
           "showlakes": true,
           "showland": true,
           "subunitcolor": "white"
          },
          "hoverlabel": {
           "align": "left"
          },
          "hovermode": "closest",
          "mapbox": {
           "style": "light"
          },
          "paper_bgcolor": "white",
          "plot_bgcolor": "#E5ECF6",
          "polar": {
           "angularaxis": {
            "gridcolor": "white",
            "linecolor": "white",
            "ticks": ""
           },
           "bgcolor": "#E5ECF6",
           "radialaxis": {
            "gridcolor": "white",
            "linecolor": "white",
            "ticks": ""
           }
          },
          "scene": {
           "xaxis": {
            "backgroundcolor": "#E5ECF6",
            "gridcolor": "white",
            "gridwidth": 2,
            "linecolor": "white",
            "showbackground": true,
            "ticks": "",
            "zerolinecolor": "white"
           },
           "yaxis": {
            "backgroundcolor": "#E5ECF6",
            "gridcolor": "white",
            "gridwidth": 2,
            "linecolor": "white",
            "showbackground": true,
            "ticks": "",
            "zerolinecolor": "white"
           },
           "zaxis": {
            "backgroundcolor": "#E5ECF6",
            "gridcolor": "white",
            "gridwidth": 2,
            "linecolor": "white",
            "showbackground": true,
            "ticks": "",
            "zerolinecolor": "white"
           }
          },
          "shapedefaults": {
           "line": {
            "color": "#2a3f5f"
           }
          },
          "ternary": {
           "aaxis": {
            "gridcolor": "white",
            "linecolor": "white",
            "ticks": ""
           },
           "baxis": {
            "gridcolor": "white",
            "linecolor": "white",
            "ticks": ""
           },
           "bgcolor": "#E5ECF6",
           "caxis": {
            "gridcolor": "white",
            "linecolor": "white",
            "ticks": ""
           }
          },
          "title": {
           "x": 0.05
          },
          "xaxis": {
           "automargin": true,
           "gridcolor": "white",
           "linecolor": "white",
           "ticks": "",
           "title": {
            "standoff": 15
           },
           "zerolinecolor": "white",
           "zerolinewidth": 2
          },
          "yaxis": {
           "automargin": true,
           "gridcolor": "white",
           "linecolor": "white",
           "ticks": "",
           "title": {
            "standoff": 15
           },
           "zerolinecolor": "white",
           "zerolinewidth": 2
          }
         }
        },
        "title": {
         "font": {
          "size": 18
         },
         "text": "Income Growth in South Asia"
        },
        "width": 900,
        "xaxis": {
         "anchor": "y",
         "domain": [
          0,
          1
         ],
         "tickangle": 45,
         "title": {
          "text": "Year"
         }
        },
        "yaxis": {
         "anchor": "x",
         "domain": [
          0,
          1
         ],
         "title": {
          "text": "GDP Per Capita (Current USD)"
         }
        }
       }
      }
     },
     "metadata": {},
     "output_type": "display_data"
    }
   ],
   "source": [
    "# Fetch data using the World Bank API\n",
    "data = wb.data.DataFrame(\n",
    "    'NY.GDP.PCAP.CD',\n",
    "    economy=wb.region.members('SAS'),\n",
    "    time=range(2000, 2016),\n",
    "    numericTimeKeys=True,\n",
    "    labels=True\n",
    ").set_index('Country').transpose()\n",
    "\n",
    "# Reset index for Plotly compatibility\n",
    "data = data.reset_index().rename(columns={\"index\": \"Year\"})\n",
    "\n",
    "# Melt the data for Plotly\n",
    "data_melted = pd.melt(data, id_vars=[\"Year\"], var_name=\"Country\", value_name=\"GDP per Capita\")\n",
    "\n",
    "# Create an interactive line chart using Plotly\n",
    "fig = px.line(\n",
    "    data_melted,\n",
    "    x=\"Year\",\n",
    "    y=\"GDP per Capita\",\n",
    "    color=\"Country\",\n",
    "    title=\"Income Growth in South Asia\",\n",
    "    labels={\"GDP per Capita\": \"GDP Per Capita (Current USD)\", \"Year\": \"Year\"},\n",
    ")\n",
    "\n",
    "# Update layout for better visualization\n",
    "fig.update_layout(\n",
    "    title_font_size=18,\n",
    "    legend_title_text=\"Country\",\n",
    "    xaxis=dict(tickangle=45),\n",
    "    width=900,\n",
    "    height=600,\n",
    ")\n",
    "\n",
    "# Show the figure\n",
    "fig.show()\n"
   ]
  },
  {
   "cell_type": "code",
   "execution_count": 9,
   "metadata": {},
   "outputs": [
    {
     "data": {
      "text/html": [
       "<div>\n",
       "<style scoped>\n",
       "    .dataframe tbody tr th:only-of-type {\n",
       "        vertical-align: middle;\n",
       "    }\n",
       "\n",
       "    .dataframe tbody tr th {\n",
       "        vertical-align: top;\n",
       "    }\n",
       "\n",
       "    .dataframe thead th {\n",
       "        text-align: right;\n",
       "    }\n",
       "</style>\n",
       "<table border=\"1\" class=\"dataframe\">\n",
       "  <thead>\n",
       "    <tr style=\"text-align: right;\">\n",
       "      <th></th>\n",
       "      <th>Country</th>\n",
       "      <th>YR2010</th>\n",
       "      <th>YR2012</th>\n",
       "      <th>YR2014</th>\n",
       "      <th>YR2016</th>\n",
       "      <th>YR2018</th>\n",
       "    </tr>\n",
       "    <tr>\n",
       "      <th>economy</th>\n",
       "      <th></th>\n",
       "      <th></th>\n",
       "      <th></th>\n",
       "      <th></th>\n",
       "      <th></th>\n",
       "      <th></th>\n",
       "    </tr>\n",
       "  </thead>\n",
       "  <tbody>\n",
       "    <tr>\n",
       "      <th>ZWE</th>\n",
       "      <td>Zimbabwe</td>\n",
       "      <td>13356548.0</td>\n",
       "      <td>13817887.0</td>\n",
       "      <td>14207359.0</td>\n",
       "      <td>14600294.0</td>\n",
       "      <td>15034452.0</td>\n",
       "    </tr>\n",
       "    <tr>\n",
       "      <th>ZMB</th>\n",
       "      <td>Zambia</td>\n",
       "      <td>13965594.0</td>\n",
       "      <td>14913629.0</td>\n",
       "      <td>15895315.0</td>\n",
       "      <td>16914423.0</td>\n",
       "      <td>17973569.0</td>\n",
       "    </tr>\n",
       "    <tr>\n",
       "      <th>YEM</th>\n",
       "      <td>Yemen, Rep.</td>\n",
       "      <td>26754387.0</td>\n",
       "      <td>28433647.0</td>\n",
       "      <td>30226309.0</td>\n",
       "      <td>32109010.0</td>\n",
       "      <td>34085182.0</td>\n",
       "    </tr>\n",
       "    <tr>\n",
       "      <th>PSE</th>\n",
       "      <td>West Bank and Gaza</td>\n",
       "      <td>3786161.0</td>\n",
       "      <td>3979998.0</td>\n",
       "      <td>4173398.0</td>\n",
       "      <td>4367088.0</td>\n",
       "      <td>4569087.0</td>\n",
       "    </tr>\n",
       "    <tr>\n",
       "      <th>VIR</th>\n",
       "      <td>Virgin Islands (U.S.)</td>\n",
       "      <td>108357.0</td>\n",
       "      <td>108188.0</td>\n",
       "      <td>107882.0</td>\n",
       "      <td>107516.0</td>\n",
       "      <td>107001.0</td>\n",
       "    </tr>\n",
       "    <tr>\n",
       "      <th>...</th>\n",
       "      <td>...</td>\n",
       "      <td>...</td>\n",
       "      <td>...</td>\n",
       "      <td>...</td>\n",
       "      <td>...</td>\n",
       "      <td>...</td>\n",
       "    </tr>\n",
       "    <tr>\n",
       "      <th>CEB</th>\n",
       "      <td>Central Europe and the Baltics</td>\n",
       "      <td>104421447.0</td>\n",
       "      <td>103928128.0</td>\n",
       "      <td>103459388.0</td>\n",
       "      <td>102926796.0</td>\n",
       "      <td>102439383.0</td>\n",
       "    </tr>\n",
       "    <tr>\n",
       "      <th>CSS</th>\n",
       "      <td>Caribbean small states</td>\n",
       "      <td>2855621.0</td>\n",
       "      <td>2893251.0</td>\n",
       "      <td>2941203.0</td>\n",
       "      <td>2987438.0</td>\n",
       "      <td>3048465.0</td>\n",
       "    </tr>\n",
       "    <tr>\n",
       "      <th>ARB</th>\n",
       "      <td>Arab World</td>\n",
       "      <td>363568534.0</td>\n",
       "      <td>381030177.0</td>\n",
       "      <td>400231008.0</td>\n",
       "      <td>419808341.0</td>\n",
       "      <td>435998060.0</td>\n",
       "    </tr>\n",
       "    <tr>\n",
       "      <th>AFW</th>\n",
       "      <td>Africa Western and Central</td>\n",
       "      <td>364358270.0</td>\n",
       "      <td>385360349.0</td>\n",
       "      <td>406992047.0</td>\n",
       "      <td>429454743.0</td>\n",
       "      <td>452195915.0</td>\n",
       "    </tr>\n",
       "    <tr>\n",
       "      <th>AFE</th>\n",
       "      <td>Africa Eastern and Southern</td>\n",
       "      <td>530308387.0</td>\n",
       "      <td>559609961.0</td>\n",
       "      <td>590968990.0</td>\n",
       "      <td>623369401.0</td>\n",
       "      <td>657801085.0</td>\n",
       "    </tr>\n",
       "  </tbody>\n",
       "</table>\n",
       "<p>266 rows × 6 columns</p>\n",
       "</div>"
      ],
      "text/plain": [
       "                                Country       YR2010       YR2012  \\\n",
       "economy                                                             \n",
       "ZWE                            Zimbabwe   13356548.0   13817887.0   \n",
       "ZMB                              Zambia   13965594.0   14913629.0   \n",
       "YEM                         Yemen, Rep.   26754387.0   28433647.0   \n",
       "PSE                  West Bank and Gaza    3786161.0    3979998.0   \n",
       "VIR               Virgin Islands (U.S.)     108357.0     108188.0   \n",
       "...                                 ...          ...          ...   \n",
       "CEB      Central Europe and the Baltics  104421447.0  103928128.0   \n",
       "CSS              Caribbean small states    2855621.0    2893251.0   \n",
       "ARB                          Arab World  363568534.0  381030177.0   \n",
       "AFW          Africa Western and Central  364358270.0  385360349.0   \n",
       "AFE         Africa Eastern and Southern  530308387.0  559609961.0   \n",
       "\n",
       "              YR2014       YR2016       YR2018  \n",
       "economy                                         \n",
       "ZWE       14207359.0   14600294.0   15034452.0  \n",
       "ZMB       15895315.0   16914423.0   17973569.0  \n",
       "YEM       30226309.0   32109010.0   34085182.0  \n",
       "PSE        4173398.0    4367088.0    4569087.0  \n",
       "VIR         107882.0     107516.0     107001.0  \n",
       "...              ...          ...          ...  \n",
       "CEB      103459388.0  102926796.0  102439383.0  \n",
       "CSS        2941203.0    2987438.0    3048465.0  \n",
       "ARB      400231008.0  419808341.0  435998060.0  \n",
       "AFW      406992047.0  429454743.0  452195915.0  \n",
       "AFE      590968990.0  623369401.0  657801085.0  \n",
       "\n",
       "[266 rows x 6 columns]"
      ]
     },
     "execution_count": 9,
     "metadata": {},
     "output_type": "execute_result"
    }
   ],
   "source": [
    "wb.data.DataFrame('SP.POP.TOTL', time=range(2010, 2020, 2), labels=True)"
   ]
  },
  {
   "cell_type": "code",
   "execution_count": 10,
   "metadata": {},
   "outputs": [
    {
     "data": {
      "image/png": "[encoded data removed]",
      "text/plain": [
       "<Figure size 1000x600 with 1 Axes>"
      ]
     },
     "metadata": {},
     "output_type": "display_data"
    }
   ],
   "source": [
    "wb.data.DataFrame('NY.GDP.PCAP.CD', ['BRA', 'ARG', 'COL'],\n",
    "                  range(2000, 2020), index='time').plot(figsize=(10, 6))\n",
    "plt.show()"
   ]
  },
  {
   "cell_type": "code",
   "execution_count": 11,
   "metadata": {},
   "outputs": [
    {
     "data": {
      "text/html": [
       "<div>\n",
       "<style scoped>\n",
       "    .dataframe tbody tr th:only-of-type {\n",
       "        vertical-align: middle;\n",
       "    }\n",
       "\n",
       "    .dataframe tbody tr th {\n",
       "        vertical-align: top;\n",
       "    }\n",
       "\n",
       "    .dataframe thead th {\n",
       "        text-align: right;\n",
       "    }\n",
       "</style>\n",
       "<table border=\"1\" class=\"dataframe\">\n",
       "  <thead>\n",
       "    <tr style=\"text-align: right;\">\n",
       "      <th></th>\n",
       "      <th>2006</th>\n",
       "      <th>2007</th>\n",
       "      <th>2009</th>\n",
       "      <th>2010</th>\n",
       "      <th>2011</th>\n",
       "      <th>2012</th>\n",
       "      <th>2013</th>\n",
       "      <th>2014</th>\n",
       "      <th>2015</th>\n",
       "      <th>2016</th>\n",
       "      <th>2017</th>\n",
       "      <th>2018</th>\n",
       "      <th>2019</th>\n",
       "      <th>2020</th>\n",
       "      <th>2021</th>\n",
       "      <th>2022</th>\n",
       "      <th>2023</th>\n",
       "    </tr>\n",
       "    <tr>\n",
       "      <th>economy</th>\n",
       "      <th></th>\n",
       "      <th></th>\n",
       "      <th></th>\n",
       "      <th></th>\n",
       "      <th></th>\n",
       "      <th></th>\n",
       "      <th></th>\n",
       "      <th></th>\n",
       "      <th></th>\n",
       "      <th></th>\n",
       "      <th></th>\n",
       "      <th></th>\n",
       "      <th></th>\n",
       "      <th></th>\n",
       "      <th></th>\n",
       "      <th></th>\n",
       "      <th></th>\n",
       "    </tr>\n",
       "  </thead>\n",
       "  <tbody>\n",
       "    <tr>\n",
       "      <th>AFG</th>\n",
       "      <td>NaN</td>\n",
       "      <td>NaN</td>\n",
       "      <td>NaN</td>\n",
       "      <td>NaN</td>\n",
       "      <td>NaN</td>\n",
       "      <td>NaN</td>\n",
       "      <td>NaN</td>\n",
       "      <td>NaN</td>\n",
       "      <td>NaN</td>\n",
       "      <td>54.5</td>\n",
       "      <td>NaN</td>\n",
       "      <td>NaN</td>\n",
       "      <td>NaN</td>\n",
       "      <td>NaN</td>\n",
       "      <td>NaN</td>\n",
       "      <td>NaN</td>\n",
       "      <td>NaN</td>\n",
       "    </tr>\n",
       "    <tr>\n",
       "      <th>AGO</th>\n",
       "      <td>NaN</td>\n",
       "      <td>NaN</td>\n",
       "      <td>NaN</td>\n",
       "      <td>NaN</td>\n",
       "      <td>NaN</td>\n",
       "      <td>NaN</td>\n",
       "      <td>NaN</td>\n",
       "      <td>NaN</td>\n",
       "      <td>NaN</td>\n",
       "      <td>NaN</td>\n",
       "      <td>NaN</td>\n",
       "      <td>32.3</td>\n",
       "      <td>NaN</td>\n",
       "      <td>NaN</td>\n",
       "      <td>NaN</td>\n",
       "      <td>NaN</td>\n",
       "      <td>NaN</td>\n",
       "    </tr>\n",
       "    <tr>\n",
       "      <th>ALB</th>\n",
       "      <td>NaN</td>\n",
       "      <td>NaN</td>\n",
       "      <td>NaN</td>\n",
       "      <td>NaN</td>\n",
       "      <td>NaN</td>\n",
       "      <td>NaN</td>\n",
       "      <td>NaN</td>\n",
       "      <td>NaN</td>\n",
       "      <td>NaN</td>\n",
       "      <td>NaN</td>\n",
       "      <td>NaN</td>\n",
       "      <td>NaN</td>\n",
       "      <td>NaN</td>\n",
       "      <td>22.0</td>\n",
       "      <td>NaN</td>\n",
       "      <td>NaN</td>\n",
       "      <td>NaN</td>\n",
       "    </tr>\n",
       "    <tr>\n",
       "      <th>ARG</th>\n",
       "      <td>NaN</td>\n",
       "      <td>NaN</td>\n",
       "      <td>NaN</td>\n",
       "      <td>NaN</td>\n",
       "      <td>NaN</td>\n",
       "      <td>NaN</td>\n",
       "      <td>NaN</td>\n",
       "      <td>NaN</td>\n",
       "      <td>NaN</td>\n",
       "      <td>NaN</td>\n",
       "      <td>NaN</td>\n",
       "      <td>NaN</td>\n",
       "      <td>NaN</td>\n",
       "      <td>NaN</td>\n",
       "      <td>NaN</td>\n",
       "      <td>39.2</td>\n",
       "      <td>NaN</td>\n",
       "    </tr>\n",
       "    <tr>\n",
       "      <th>ARM</th>\n",
       "      <td>NaN</td>\n",
       "      <td>NaN</td>\n",
       "      <td>NaN</td>\n",
       "      <td>NaN</td>\n",
       "      <td>NaN</td>\n",
       "      <td>NaN</td>\n",
       "      <td>NaN</td>\n",
       "      <td>NaN</td>\n",
       "      <td>NaN</td>\n",
       "      <td>NaN</td>\n",
       "      <td>NaN</td>\n",
       "      <td>NaN</td>\n",
       "      <td>NaN</td>\n",
       "      <td>NaN</td>\n",
       "      <td>NaN</td>\n",
       "      <td>24.8</td>\n",
       "      <td>NaN</td>\n",
       "    </tr>\n",
       "    <tr>\n",
       "      <th>...</th>\n",
       "      <td>...</td>\n",
       "      <td>...</td>\n",
       "      <td>...</td>\n",
       "      <td>...</td>\n",
       "      <td>...</td>\n",
       "      <td>...</td>\n",
       "      <td>...</td>\n",
       "      <td>...</td>\n",
       "      <td>...</td>\n",
       "      <td>...</td>\n",
       "      <td>...</td>\n",
       "      <td>...</td>\n",
       "      <td>...</td>\n",
       "      <td>...</td>\n",
       "      <td>...</td>\n",
       "      <td>...</td>\n",
       "      <td>...</td>\n",
       "    </tr>\n",
       "    <tr>\n",
       "      <th>XKX</th>\n",
       "      <td>NaN</td>\n",
       "      <td>NaN</td>\n",
       "      <td>NaN</td>\n",
       "      <td>NaN</td>\n",
       "      <td>NaN</td>\n",
       "      <td>NaN</td>\n",
       "      <td>NaN</td>\n",
       "      <td>NaN</td>\n",
       "      <td>17.6</td>\n",
       "      <td>NaN</td>\n",
       "      <td>NaN</td>\n",
       "      <td>NaN</td>\n",
       "      <td>NaN</td>\n",
       "      <td>NaN</td>\n",
       "      <td>NaN</td>\n",
       "      <td>NaN</td>\n",
       "      <td>NaN</td>\n",
       "    </tr>\n",
       "    <tr>\n",
       "      <th>YEM</th>\n",
       "      <td>NaN</td>\n",
       "      <td>NaN</td>\n",
       "      <td>NaN</td>\n",
       "      <td>NaN</td>\n",
       "      <td>NaN</td>\n",
       "      <td>NaN</td>\n",
       "      <td>NaN</td>\n",
       "      <td>48.6</td>\n",
       "      <td>NaN</td>\n",
       "      <td>NaN</td>\n",
       "      <td>NaN</td>\n",
       "      <td>NaN</td>\n",
       "      <td>NaN</td>\n",
       "      <td>NaN</td>\n",
       "      <td>NaN</td>\n",
       "      <td>NaN</td>\n",
       "      <td>NaN</td>\n",
       "    </tr>\n",
       "    <tr>\n",
       "      <th>ZAF</th>\n",
       "      <td>NaN</td>\n",
       "      <td>NaN</td>\n",
       "      <td>NaN</td>\n",
       "      <td>NaN</td>\n",
       "      <td>NaN</td>\n",
       "      <td>NaN</td>\n",
       "      <td>NaN</td>\n",
       "      <td>55.5</td>\n",
       "      <td>NaN</td>\n",
       "      <td>NaN</td>\n",
       "      <td>NaN</td>\n",
       "      <td>NaN</td>\n",
       "      <td>NaN</td>\n",
       "      <td>NaN</td>\n",
       "      <td>NaN</td>\n",
       "      <td>NaN</td>\n",
       "      <td>NaN</td>\n",
       "    </tr>\n",
       "    <tr>\n",
       "      <th>ZMB</th>\n",
       "      <td>NaN</td>\n",
       "      <td>NaN</td>\n",
       "      <td>NaN</td>\n",
       "      <td>NaN</td>\n",
       "      <td>NaN</td>\n",
       "      <td>NaN</td>\n",
       "      <td>NaN</td>\n",
       "      <td>NaN</td>\n",
       "      <td>NaN</td>\n",
       "      <td>NaN</td>\n",
       "      <td>NaN</td>\n",
       "      <td>NaN</td>\n",
       "      <td>NaN</td>\n",
       "      <td>NaN</td>\n",
       "      <td>NaN</td>\n",
       "      <td>60.0</td>\n",
       "      <td>NaN</td>\n",
       "    </tr>\n",
       "    <tr>\n",
       "      <th>ZWE</th>\n",
       "      <td>NaN</td>\n",
       "      <td>NaN</td>\n",
       "      <td>NaN</td>\n",
       "      <td>NaN</td>\n",
       "      <td>NaN</td>\n",
       "      <td>NaN</td>\n",
       "      <td>NaN</td>\n",
       "      <td>NaN</td>\n",
       "      <td>NaN</td>\n",
       "      <td>NaN</td>\n",
       "      <td>NaN</td>\n",
       "      <td>NaN</td>\n",
       "      <td>38.3</td>\n",
       "      <td>NaN</td>\n",
       "      <td>NaN</td>\n",
       "      <td>NaN</td>\n",
       "      <td>NaN</td>\n",
       "    </tr>\n",
       "  </tbody>\n",
       "</table>\n",
       "<p>158 rows × 17 columns</p>\n",
       "</div>"
      ],
      "text/plain": [
       "         2006  2007  2009  2010  2011  2012  2013  2014  2015  2016  2017  \\\n",
       "economy                                                                     \n",
       "AFG       NaN   NaN   NaN   NaN   NaN   NaN   NaN   NaN   NaN  54.5   NaN   \n",
       "AGO       NaN   NaN   NaN   NaN   NaN   NaN   NaN   NaN   NaN   NaN   NaN   \n",
       "ALB       NaN   NaN   NaN   NaN   NaN   NaN   NaN   NaN   NaN   NaN   NaN   \n",
       "ARG       NaN   NaN   NaN   NaN   NaN   NaN   NaN   NaN   NaN   NaN   NaN   \n",
       "ARM       NaN   NaN   NaN   NaN   NaN   NaN   NaN   NaN   NaN   NaN   NaN   \n",
       "...       ...   ...   ...   ...   ...   ...   ...   ...   ...   ...   ...   \n",
       "XKX       NaN   NaN   NaN   NaN   NaN   NaN   NaN   NaN  17.6   NaN   NaN   \n",
       "YEM       NaN   NaN   NaN   NaN   NaN   NaN   NaN  48.6   NaN   NaN   NaN   \n",
       "ZAF       NaN   NaN   NaN   NaN   NaN   NaN   NaN  55.5   NaN   NaN   NaN   \n",
       "ZMB       NaN   NaN   NaN   NaN   NaN   NaN   NaN   NaN   NaN   NaN   NaN   \n",
       "ZWE       NaN   NaN   NaN   NaN   NaN   NaN   NaN   NaN   NaN   NaN   NaN   \n",
       "\n",
       "         2018  2019  2020  2021  2022  2023  \n",
       "economy                                      \n",
       "AFG       NaN   NaN   NaN   NaN   NaN   NaN  \n",
       "AGO      32.3   NaN   NaN   NaN   NaN   NaN  \n",
       "ALB       NaN   NaN  22.0   NaN   NaN   NaN  \n",
       "ARG       NaN   NaN   NaN   NaN  39.2   NaN  \n",
       "ARM       NaN   NaN   NaN   NaN  24.8   NaN  \n",
       "...       ...   ...   ...   ...   ...   ...  \n",
       "XKX       NaN   NaN   NaN   NaN   NaN   NaN  \n",
       "YEM       NaN   NaN   NaN   NaN   NaN   NaN  \n",
       "ZAF       NaN   NaN   NaN   NaN   NaN   NaN  \n",
       "ZMB       NaN   NaN   NaN   NaN  60.0   NaN  \n",
       "ZWE       NaN  38.3   NaN   NaN   NaN   NaN  \n",
       "\n",
       "[158 rows x 17 columns]"
      ]
     },
     "execution_count": 11,
     "metadata": {},
     "output_type": "execute_result"
    }
   ],
   "source": [
    "df = wb.data.DataFrame('SI.POV.NAHC', mrnev=1, columns='time', numericTimeKeys=True)\n",
    "df"
   ]
  },
  {
   "cell_type": "code",
   "execution_count": 12,
   "metadata": {},
   "outputs": [
    {
     "data": {
      "image/png": "[encoded data removed]",
      "text/plain": [
       "<Figure size 640x480 with 1 Axes>"
      ]
     },
     "metadata": {},
     "output_type": "display_data"
    }
   ],
   "source": [
    "# Here's the same data frame plotted as a bar graph\n",
    "counts = df.count()\n",
    "plt.bar(counts.index, counts)\n",
    "ax = plt.title('Distribution of Poverty Rate MRVs')"
   ]
  },
  {
   "cell_type": "code",
   "execution_count": 13,
   "metadata": {},
   "outputs": [
    {
     "data": {
      "text/plain": [
       "{'economy': {'key': 'country', 'value': 'Country'},\n",
       " 'series': {'key': 'series', 'value': 'Series'},\n",
       " 'time': {'key': 'time', 'value': 'Time'},\n",
       " 'version': {'key': 'version', 'value': 'Version'}}"
      ]
     },
     "execution_count": 13,
     "metadata": {},
     "output_type": "execute_result"
    }
   ],
   "source": [
    "wb.source.concepts(db=57)"
   ]
  },
  {
   "cell_type": "code",
   "execution_count": 14,
   "metadata": {},
   "outputs": [
    {
     "data": {
      "text/plain": [
       "198904    1989 Apr\n",
       "199004    1990 Apr\n",
       "199009    1990 Sep\n",
       "199104    1991 Apr\n",
       "199109    1991 Sep\n",
       "            ...   \n",
       "202405    2024 May\n",
       "202407    2024 Jul\n",
       "202409    2024 Sep\n",
       "202410    2024 Oct\n",
       "202411    2024 Nov\n",
       "Name: value, Length: 130, dtype: object"
      ]
     },
     "execution_count": 14,
     "metadata": {},
     "output_type": "execute_result"
    }
   ],
   "source": [
    "wb.Series(wb.source.features('version', db=57))"
   ]
  },
  {
   "cell_type": "code",
   "execution_count": 15,
   "metadata": {},
   "outputs": [
    {
     "data": {
      "text/html": [
       "<div>\n",
       "<style scoped>\n",
       "    .dataframe tbody tr th:only-of-type {\n",
       "        vertical-align: middle;\n",
       "    }\n",
       "\n",
       "    .dataframe tbody tr th {\n",
       "        vertical-align: top;\n",
       "    }\n",
       "\n",
       "    .dataframe thead th {\n",
       "        text-align: right;\n",
       "    }\n",
       "</style>\n",
       "<table border=\"1\" class=\"dataframe\">\n",
       "  <thead>\n",
       "    <tr style=\"text-align: right;\">\n",
       "      <th></th>\n",
       "      <th>201004</th>\n",
       "      <th>201104</th>\n",
       "      <th>201204</th>\n",
       "      <th>201304</th>\n",
       "      <th>201404</th>\n",
       "      <th>201504</th>\n",
       "      <th>201604</th>\n",
       "      <th>201704</th>\n",
       "      <th>201804</th>\n",
       "      <th>201904</th>\n",
       "    </tr>\n",
       "    <tr>\n",
       "      <th>time</th>\n",
       "      <th></th>\n",
       "      <th></th>\n",
       "      <th></th>\n",
       "      <th></th>\n",
       "      <th></th>\n",
       "      <th></th>\n",
       "      <th></th>\n",
       "      <th></th>\n",
       "      <th></th>\n",
       "      <th></th>\n",
       "    </tr>\n",
       "  </thead>\n",
       "  <tbody>\n",
       "    <tr>\n",
       "      <th>YR2000</th>\n",
       "      <td>174174447.0</td>\n",
       "      <td>174174447.0</td>\n",
       "      <td>174425387.0</td>\n",
       "      <td>174425387.0</td>\n",
       "      <td>174504898.0</td>\n",
       "      <td>174504898.0</td>\n",
       "      <td>175786441.0</td>\n",
       "      <td>175786441.0</td>\n",
       "      <td>175287587.0</td>\n",
       "      <td>175287587.0</td>\n",
       "    </tr>\n",
       "    <tr>\n",
       "      <th>YR2001</th>\n",
       "      <td>176659138.0</td>\n",
       "      <td>176659138.0</td>\n",
       "      <td>176877135.0</td>\n",
       "      <td>176877135.0</td>\n",
       "      <td>176968205.0</td>\n",
       "      <td>176968205.0</td>\n",
       "      <td>178419396.0</td>\n",
       "      <td>178419396.0</td>\n",
       "      <td>177750670.0</td>\n",
       "      <td>177750670.0</td>\n",
       "    </tr>\n",
       "    <tr>\n",
       "      <th>YR2002</th>\n",
       "      <td>179123364.0</td>\n",
       "      <td>179123364.0</td>\n",
       "      <td>179289227.0</td>\n",
       "      <td>179289227.0</td>\n",
       "      <td>179393768.0</td>\n",
       "      <td>179393768.0</td>\n",
       "      <td>181045592.0</td>\n",
       "      <td>181045592.0</td>\n",
       "      <td>180151021.0</td>\n",
       "      <td>180151021.0</td>\n",
       "    </tr>\n",
       "    <tr>\n",
       "      <th>YR2003</th>\n",
       "      <td>181537359.0</td>\n",
       "      <td>181537359.0</td>\n",
       "      <td>181633074.0</td>\n",
       "      <td>181633074.0</td>\n",
       "      <td>181752951.0</td>\n",
       "      <td>181752951.0</td>\n",
       "      <td>183627339.0</td>\n",
       "      <td>183627339.0</td>\n",
       "      <td>182482149.0</td>\n",
       "      <td>182482149.0</td>\n",
       "    </tr>\n",
       "    <tr>\n",
       "      <th>YR2004</th>\n",
       "      <td>183863524.0</td>\n",
       "      <td>183863524.0</td>\n",
       "      <td>183873377.0</td>\n",
       "      <td>183873377.0</td>\n",
       "      <td>184010283.0</td>\n",
       "      <td>184010283.0</td>\n",
       "      <td>186116363.0</td>\n",
       "      <td>186116363.0</td>\n",
       "      <td>184738458.0</td>\n",
       "      <td>184738458.0</td>\n",
       "    </tr>\n",
       "    <tr>\n",
       "      <th>YR2005</th>\n",
       "      <td>186074634.0</td>\n",
       "      <td>186074634.0</td>\n",
       "      <td>185986964.0</td>\n",
       "      <td>185986964.0</td>\n",
       "      <td>186142403.0</td>\n",
       "      <td>186142403.0</td>\n",
       "      <td>188479240.0</td>\n",
       "      <td>188479240.0</td>\n",
       "      <td>186917361.0</td>\n",
       "      <td>186917361.0</td>\n",
       "    </tr>\n",
       "    <tr>\n",
       "      <th>YR2006</th>\n",
       "      <td>188158438.0</td>\n",
       "      <td>188158438.0</td>\n",
       "      <td>187958211.0</td>\n",
       "      <td>187958211.0</td>\n",
       "      <td>188134315.0</td>\n",
       "      <td>188134315.0</td>\n",
       "      <td>190698241.0</td>\n",
       "      <td>190698241.0</td>\n",
       "      <td>189012412.0</td>\n",
       "      <td>189012412.0</td>\n",
       "    </tr>\n",
       "    <tr>\n",
       "      <th>YR2007</th>\n",
       "      <td>190119995.0</td>\n",
       "      <td>190119995.0</td>\n",
       "      <td>189798070.0</td>\n",
       "      <td>189798070.0</td>\n",
       "      <td>189996976.0</td>\n",
       "      <td>189996976.0</td>\n",
       "      <td>192784521.0</td>\n",
       "      <td>192784521.0</td>\n",
       "      <td>191026637.0</td>\n",
       "      <td>191026637.0</td>\n",
       "    </tr>\n",
       "    <tr>\n",
       "      <th>YR2008</th>\n",
       "      <td>191971506.0</td>\n",
       "      <td>191971506.0</td>\n",
       "      <td>191543237.0</td>\n",
       "      <td>191543237.0</td>\n",
       "      <td>191765567.0</td>\n",
       "      <td>191765567.0</td>\n",
       "      <td>194769696.0</td>\n",
       "      <td>194769696.0</td>\n",
       "      <td>192979029.0</td>\n",
       "      <td>192979029.0</td>\n",
       "    </tr>\n",
       "    <tr>\n",
       "      <th>YR2009</th>\n",
       "      <td>NaN</td>\n",
       "      <td>193733795.0</td>\n",
       "      <td>193246610.0</td>\n",
       "      <td>193246610.0</td>\n",
       "      <td>193490922.0</td>\n",
       "      <td>193490922.0</td>\n",
       "      <td>196701298.0</td>\n",
       "      <td>196701298.0</td>\n",
       "      <td>194895996.0</td>\n",
       "      <td>194895996.0</td>\n",
       "    </tr>\n",
       "    <tr>\n",
       "      <th>YR2010</th>\n",
       "      <td>NaN</td>\n",
       "      <td>NaN</td>\n",
       "      <td>194946000.0</td>\n",
       "      <td>194946470.0</td>\n",
       "      <td>195210154.0</td>\n",
       "      <td>195210154.0</td>\n",
       "      <td>198614208.0</td>\n",
       "      <td>198614208.0</td>\n",
       "      <td>196796269.0</td>\n",
       "      <td>196796269.0</td>\n",
       "    </tr>\n",
       "    <tr>\n",
       "      <th>YR2011</th>\n",
       "      <td>NaN</td>\n",
       "      <td>NaN</td>\n",
       "      <td>NaN</td>\n",
       "      <td>196655014.0</td>\n",
       "      <td>196935134.0</td>\n",
       "      <td>196935134.0</td>\n",
       "      <td>200517584.0</td>\n",
       "      <td>200517584.0</td>\n",
       "      <td>198686688.0</td>\n",
       "      <td>198686688.0</td>\n",
       "    </tr>\n",
       "    <tr>\n",
       "      <th>YR2012</th>\n",
       "      <td>NaN</td>\n",
       "      <td>NaN</td>\n",
       "      <td>NaN</td>\n",
       "      <td>NaN</td>\n",
       "      <td>198656019.0</td>\n",
       "      <td>198656019.0</td>\n",
       "      <td>202401584.0</td>\n",
       "      <td>202401584.0</td>\n",
       "      <td>200560983.0</td>\n",
       "      <td>200560983.0</td>\n",
       "    </tr>\n",
       "    <tr>\n",
       "      <th>YR2013</th>\n",
       "      <td>NaN</td>\n",
       "      <td>NaN</td>\n",
       "      <td>NaN</td>\n",
       "      <td>NaN</td>\n",
       "      <td>NaN</td>\n",
       "      <td>200361925.0</td>\n",
       "      <td>204259377.0</td>\n",
       "      <td>204259377.0</td>\n",
       "      <td>202408632.0</td>\n",
       "      <td>202408632.0</td>\n",
       "    </tr>\n",
       "    <tr>\n",
       "      <th>YR2014</th>\n",
       "      <td>NaN</td>\n",
       "      <td>NaN</td>\n",
       "      <td>NaN</td>\n",
       "      <td>NaN</td>\n",
       "      <td>NaN</td>\n",
       "      <td>NaN</td>\n",
       "      <td>206077898.0</td>\n",
       "      <td>206077898.0</td>\n",
       "      <td>204213133.0</td>\n",
       "      <td>204213133.0</td>\n",
       "    </tr>\n",
       "    <tr>\n",
       "      <th>YR2015</th>\n",
       "      <td>NaN</td>\n",
       "      <td>NaN</td>\n",
       "      <td>NaN</td>\n",
       "      <td>NaN</td>\n",
       "      <td>NaN</td>\n",
       "      <td>NaN</td>\n",
       "      <td>NaN</td>\n",
       "      <td>207847528.0</td>\n",
       "      <td>205962108.0</td>\n",
       "      <td>205962108.0</td>\n",
       "    </tr>\n",
       "    <tr>\n",
       "      <th>YR2016</th>\n",
       "      <td>NaN</td>\n",
       "      <td>NaN</td>\n",
       "      <td>NaN</td>\n",
       "      <td>NaN</td>\n",
       "      <td>NaN</td>\n",
       "      <td>NaN</td>\n",
       "      <td>NaN</td>\n",
       "      <td>NaN</td>\n",
       "      <td>207652865.0</td>\n",
       "      <td>207652865.0</td>\n",
       "    </tr>\n",
       "    <tr>\n",
       "      <th>YR2017</th>\n",
       "      <td>NaN</td>\n",
       "      <td>NaN</td>\n",
       "      <td>NaN</td>\n",
       "      <td>NaN</td>\n",
       "      <td>NaN</td>\n",
       "      <td>NaN</td>\n",
       "      <td>NaN</td>\n",
       "      <td>NaN</td>\n",
       "      <td>209288000.0</td>\n",
       "      <td>209288278.0</td>\n",
       "    </tr>\n",
       "    <tr>\n",
       "      <th>YR2018</th>\n",
       "      <td>NaN</td>\n",
       "      <td>NaN</td>\n",
       "      <td>NaN</td>\n",
       "      <td>NaN</td>\n",
       "      <td>NaN</td>\n",
       "      <td>NaN</td>\n",
       "      <td>NaN</td>\n",
       "      <td>NaN</td>\n",
       "      <td>NaN</td>\n",
       "      <td>210868000.0</td>\n",
       "    </tr>\n",
       "    <tr>\n",
       "      <th>YR2019</th>\n",
       "      <td>NaN</td>\n",
       "      <td>NaN</td>\n",
       "      <td>NaN</td>\n",
       "      <td>NaN</td>\n",
       "      <td>NaN</td>\n",
       "      <td>NaN</td>\n",
       "      <td>NaN</td>\n",
       "      <td>NaN</td>\n",
       "      <td>NaN</td>\n",
       "      <td>NaN</td>\n",
       "    </tr>\n",
       "  </tbody>\n",
       "</table>\n",
       "</div>"
      ],
      "text/plain": [
       "             201004       201104       201204       201304       201404  \\\n",
       "time                                                                      \n",
       "YR2000  174174447.0  174174447.0  174425387.0  174425387.0  174504898.0   \n",
       "YR2001  176659138.0  176659138.0  176877135.0  176877135.0  176968205.0   \n",
       "YR2002  179123364.0  179123364.0  179289227.0  179289227.0  179393768.0   \n",
       "YR2003  181537359.0  181537359.0  181633074.0  181633074.0  181752951.0   \n",
       "YR2004  183863524.0  183863524.0  183873377.0  183873377.0  184010283.0   \n",
       "YR2005  186074634.0  186074634.0  185986964.0  185986964.0  186142403.0   \n",
       "YR2006  188158438.0  188158438.0  187958211.0  187958211.0  188134315.0   \n",
       "YR2007  190119995.0  190119995.0  189798070.0  189798070.0  189996976.0   \n",
       "YR2008  191971506.0  191971506.0  191543237.0  191543237.0  191765567.0   \n",
       "YR2009          NaN  193733795.0  193246610.0  193246610.0  193490922.0   \n",
       "YR2010          NaN          NaN  194946000.0  194946470.0  195210154.0   \n",
       "YR2011          NaN          NaN          NaN  196655014.0  196935134.0   \n",
       "YR2012          NaN          NaN          NaN          NaN  198656019.0   \n",
       "YR2013          NaN          NaN          NaN          NaN          NaN   \n",
       "YR2014          NaN          NaN          NaN          NaN          NaN   \n",
       "YR2015          NaN          NaN          NaN          NaN          NaN   \n",
       "YR2016          NaN          NaN          NaN          NaN          NaN   \n",
       "YR2017          NaN          NaN          NaN          NaN          NaN   \n",
       "YR2018          NaN          NaN          NaN          NaN          NaN   \n",
       "YR2019          NaN          NaN          NaN          NaN          NaN   \n",
       "\n",
       "             201504       201604       201704       201804       201904  \n",
       "time                                                                     \n",
       "YR2000  174504898.0  175786441.0  175786441.0  175287587.0  175287587.0  \n",
       "YR2001  176968205.0  178419396.0  178419396.0  177750670.0  177750670.0  \n",
       "YR2002  179393768.0  181045592.0  181045592.0  180151021.0  180151021.0  \n",
       "YR2003  181752951.0  183627339.0  183627339.0  182482149.0  182482149.0  \n",
       "YR2004  184010283.0  186116363.0  186116363.0  184738458.0  184738458.0  \n",
       "YR2005  186142403.0  188479240.0  188479240.0  186917361.0  186917361.0  \n",
       "YR2006  188134315.0  190698241.0  190698241.0  189012412.0  189012412.0  \n",
       "YR2007  189996976.0  192784521.0  192784521.0  191026637.0  191026637.0  \n",
       "YR2008  191765567.0  194769696.0  194769696.0  192979029.0  192979029.0  \n",
       "YR2009  193490922.0  196701298.0  196701298.0  194895996.0  194895996.0  \n",
       "YR2010  195210154.0  198614208.0  198614208.0  196796269.0  196796269.0  \n",
       "YR2011  196935134.0  200517584.0  200517584.0  198686688.0  198686688.0  \n",
       "YR2012  198656019.0  202401584.0  202401584.0  200560983.0  200560983.0  \n",
       "YR2013  200361925.0  204259377.0  204259377.0  202408632.0  202408632.0  \n",
       "YR2014          NaN  206077898.0  206077898.0  204213133.0  204213133.0  \n",
       "YR2015          NaN          NaN  207847528.0  205962108.0  205962108.0  \n",
       "YR2016          NaN          NaN          NaN  207652865.0  207652865.0  \n",
       "YR2017          NaN          NaN          NaN  209288000.0  209288278.0  \n",
       "YR2018          NaN          NaN          NaN          NaN  210868000.0  \n",
       "YR2019          NaN          NaN          NaN          NaN          NaN  "
      ]
     },
     "execution_count": 15,
     "metadata": {},
     "output_type": "execute_result"
    }
   ],
   "source": [
    "df = wb.data.DataFrame('SP.POP.TOTL', 'BRA', db=57, time=range(2000, 2020),\n",
    "                       version=range(201004, 202004, 100), index='time')\n",
    "df"
   ]
  },
  {
   "cell_type": "code",
   "execution_count": 16,
   "metadata": {},
   "outputs": [
    {
     "data": {
      "image/png": "[encoded data removed]",
      "text/plain": [
       "<Figure size 1000x600 with 1 Axes>"
      ]
     },
     "metadata": {},
     "output_type": "display_data"
    }
   ],
   "source": [
    "ax = df.plot(figsize=(10, 6), title=\"Population estimates over time by WDI version\")"
   ]
  },
  {
   "cell_type": "markdown",
   "metadata": {},
   "source": [
    "## Aggregations"
   ]
  },
  {
   "cell_type": "code",
   "execution_count": 17,
   "metadata": {},
   "outputs": [
    {
     "data": {
      "text/html": [
       "<div>\n",
       "<style scoped>\n",
       "    .dataframe tbody tr th:only-of-type {\n",
       "        vertical-align: middle;\n",
       "    }\n",
       "\n",
       "    .dataframe tbody tr th {\n",
       "        vertical-align: top;\n",
       "    }\n",
       "\n",
       "    .dataframe thead th {\n",
       "        text-align: right;\n",
       "    }\n",
       "</style>\n",
       "<table border=\"1\" class=\"dataframe\">\n",
       "  <thead>\n",
       "    <tr style=\"text-align: right;\">\n",
       "      <th></th>\n",
       "      <th>YR1990</th>\n",
       "      <th>YR1991</th>\n",
       "      <th>YR1992</th>\n",
       "      <th>YR1993</th>\n",
       "      <th>YR1994</th>\n",
       "      <th>YR1995</th>\n",
       "    </tr>\n",
       "    <tr>\n",
       "      <th>economy</th>\n",
       "      <th></th>\n",
       "      <th></th>\n",
       "      <th></th>\n",
       "      <th></th>\n",
       "      <th></th>\n",
       "      <th></th>\n",
       "    </tr>\n",
       "  </thead>\n",
       "  <tbody>\n",
       "    <tr>\n",
       "      <th>BRA</th>\n",
       "      <td>87.475116</td>\n",
       "      <td>90.606544</td>\n",
       "      <td>88.803833</td>\n",
       "      <td>89.999927</td>\n",
       "      <td>91.883728</td>\n",
       "      <td>91.728598</td>\n",
       "    </tr>\n",
       "    <tr>\n",
       "      <th>COL</th>\n",
       "      <td>89.900000</td>\n",
       "      <td>91.836655</td>\n",
       "      <td>92.132660</td>\n",
       "      <td>92.427994</td>\n",
       "      <td>92.721962</td>\n",
       "      <td>91.200000</td>\n",
       "    </tr>\n",
       "    <tr>\n",
       "      <th>PER</th>\n",
       "      <td>NaN</td>\n",
       "      <td>NaN</td>\n",
       "      <td>70.100000</td>\n",
       "      <td>64.748993</td>\n",
       "      <td>66.052933</td>\n",
       "      <td>67.354836</td>\n",
       "    </tr>\n",
       "  </tbody>\n",
       "</table>\n",
       "</div>"
      ],
      "text/plain": [
       "            YR1990     YR1991     YR1992     YR1993     YR1994     YR1995\n",
       "economy                                                                  \n",
       "BRA      87.475116  90.606544  88.803833  89.999927  91.883728  91.728598\n",
       "COL      89.900000  91.836655  92.132660  92.427994  92.721962  91.200000\n",
       "PER            NaN        NaN  70.100000  64.748993  66.052933  67.354836"
      ]
     },
     "execution_count": 17,
     "metadata": {},
     "output_type": "execute_result"
    }
   ],
   "source": [
    "df = wb.data.DataFrame('EG.ELC.ACCS.ZS', ['BRA', 'COL', 'PER'], time=range(1990,1996))\n",
    "df"
   ]
  },
  {
   "cell_type": "code",
   "execution_count": 18,
   "metadata": {},
   "outputs": [
    {
     "data": {
      "text/plain": [
       "YR1990    88.687558\n",
       "YR1991    91.221600\n",
       "YR1992    83.678831\n",
       "YR1993    82.392305\n",
       "YR1994    83.552874\n",
       "YR1995    83.427811\n",
       "dtype: float64"
      ]
     },
     "execution_count": 18,
     "metadata": {},
     "output_type": "execute_result"
    }
   ],
   "source": [
    "df.mean()"
   ]
  },
  {
   "cell_type": "code",
   "execution_count": 19,
   "metadata": {},
   "outputs": [
    {
     "data": {
      "text/html": [
       "<div>\n",
       "<style scoped>\n",
       "    .dataframe tbody tr th:only-of-type {\n",
       "        vertical-align: middle;\n",
       "    }\n",
       "\n",
       "    .dataframe tbody tr th {\n",
       "        vertical-align: top;\n",
       "    }\n",
       "\n",
       "    .dataframe thead th {\n",
       "        text-align: right;\n",
       "    }\n",
       "</style>\n",
       "<table border=\"1\" class=\"dataframe\">\n",
       "  <thead>\n",
       "    <tr style=\"text-align: right;\">\n",
       "      <th></th>\n",
       "      <th></th>\n",
       "      <th>YR1990</th>\n",
       "      <th>YR1991</th>\n",
       "      <th>YR1992</th>\n",
       "      <th>YR1993</th>\n",
       "      <th>YR1994</th>\n",
       "      <th>YR1995</th>\n",
       "    </tr>\n",
       "    <tr>\n",
       "      <th>series</th>\n",
       "      <th>economy</th>\n",
       "      <th></th>\n",
       "      <th></th>\n",
       "      <th></th>\n",
       "      <th></th>\n",
       "      <th></th>\n",
       "      <th></th>\n",
       "    </tr>\n",
       "  </thead>\n",
       "  <tbody>\n",
       "    <tr>\n",
       "      <th rowspan=\"3\" valign=\"top\">EG.ELC.ACCS.ZS</th>\n",
       "      <th>BRA</th>\n",
       "      <td>8.747512e+01</td>\n",
       "      <td>9.060654e+01</td>\n",
       "      <td>8.880383e+01</td>\n",
       "      <td>8.999993e+01</td>\n",
       "      <td>9.188373e+01</td>\n",
       "      <td>9.172860e+01</td>\n",
       "    </tr>\n",
       "    <tr>\n",
       "      <th>COL</th>\n",
       "      <td>8.990000e+01</td>\n",
       "      <td>9.183665e+01</td>\n",
       "      <td>9.213266e+01</td>\n",
       "      <td>9.242799e+01</td>\n",
       "      <td>9.272196e+01</td>\n",
       "      <td>9.120000e+01</td>\n",
       "    </tr>\n",
       "    <tr>\n",
       "      <th>PER</th>\n",
       "      <td>NaN</td>\n",
       "      <td>NaN</td>\n",
       "      <td>7.010000e+01</td>\n",
       "      <td>6.474899e+01</td>\n",
       "      <td>6.605293e+01</td>\n",
       "      <td>6.735484e+01</td>\n",
       "    </tr>\n",
       "    <tr>\n",
       "      <th rowspan=\"3\" valign=\"top\">SP.POP.TOTL</th>\n",
       "      <th>BRA</th>\n",
       "      <td>1.491432e+08</td>\n",
       "      <td>1.517243e+08</td>\n",
       "      <td>1.542751e+08</td>\n",
       "      <td>1.567946e+08</td>\n",
       "      <td>1.592650e+08</td>\n",
       "      <td>1.617351e+08</td>\n",
       "    </tr>\n",
       "    <tr>\n",
       "      <th>COL</th>\n",
       "      <td>3.244007e+07</td>\n",
       "      <td>3.309837e+07</td>\n",
       "      <td>3.376057e+07</td>\n",
       "      <td>3.444147e+07</td>\n",
       "      <td>3.512741e+07</td>\n",
       "      <td>3.580466e+07</td>\n",
       "    </tr>\n",
       "    <tr>\n",
       "      <th>PER</th>\n",
       "      <td>2.201477e+07</td>\n",
       "      <td>2.248378e+07</td>\n",
       "      <td>2.294634e+07</td>\n",
       "      <td>2.341378e+07</td>\n",
       "      <td>2.388149e+07</td>\n",
       "      <td>2.434892e+07</td>\n",
       "    </tr>\n",
       "  </tbody>\n",
       "</table>\n",
       "</div>"
      ],
      "text/plain": [
       "                              YR1990        YR1991        YR1992  \\\n",
       "series         economy                                             \n",
       "EG.ELC.ACCS.ZS BRA      8.747512e+01  9.060654e+01  8.880383e+01   \n",
       "               COL      8.990000e+01  9.183665e+01  9.213266e+01   \n",
       "               PER               NaN           NaN  7.010000e+01   \n",
       "SP.POP.TOTL    BRA      1.491432e+08  1.517243e+08  1.542751e+08   \n",
       "               COL      3.244007e+07  3.309837e+07  3.376057e+07   \n",
       "               PER      2.201477e+07  2.248378e+07  2.294634e+07   \n",
       "\n",
       "                              YR1993        YR1994        YR1995  \n",
       "series         economy                                            \n",
       "EG.ELC.ACCS.ZS BRA      8.999993e+01  9.188373e+01  9.172860e+01  \n",
       "               COL      9.242799e+01  9.272196e+01  9.120000e+01  \n",
       "               PER      6.474899e+01  6.605293e+01  6.735484e+01  \n",
       "SP.POP.TOTL    BRA      1.567946e+08  1.592650e+08  1.617351e+08  \n",
       "               COL      3.444147e+07  3.512741e+07  3.580466e+07  \n",
       "               PER      2.341378e+07  2.388149e+07  2.434892e+07  "
      ]
     },
     "execution_count": 19,
     "metadata": {},
     "output_type": "execute_result"
    }
   ],
   "source": [
    "combined = wb.data.DataFrame(['EG.ELC.ACCS.ZS', 'SP.POP.TOTL'], ['BRA', 'COL', 'PER'],\n",
    "                             time=range(1990,1996), index=['series', 'economy'])\n",
    "combined"
   ]
  },
  {
   "cell_type": "code",
   "execution_count": 20,
   "metadata": {},
   "outputs": [
    {
     "data": {
      "text/html": [
       "<div>\n",
       "<style scoped>\n",
       "    .dataframe tbody tr th:only-of-type {\n",
       "        vertical-align: middle;\n",
       "    }\n",
       "\n",
       "    .dataframe tbody tr th {\n",
       "        vertical-align: top;\n",
       "    }\n",
       "\n",
       "    .dataframe thead th {\n",
       "        text-align: right;\n",
       "    }\n",
       "</style>\n",
       "<table border=\"1\" class=\"dataframe\">\n",
       "  <thead>\n",
       "    <tr style=\"text-align: right;\">\n",
       "      <th></th>\n",
       "      <th></th>\n",
       "      <th>YR1990</th>\n",
       "      <th>YR1991</th>\n",
       "      <th>YR1992</th>\n",
       "      <th>YR1993</th>\n",
       "      <th>YR1994</th>\n",
       "      <th>YR1995</th>\n",
       "    </tr>\n",
       "    <tr>\n",
       "      <th>series</th>\n",
       "      <th>economy</th>\n",
       "      <th></th>\n",
       "      <th></th>\n",
       "      <th></th>\n",
       "      <th></th>\n",
       "      <th></th>\n",
       "      <th></th>\n",
       "    </tr>\n",
       "  </thead>\n",
       "  <tbody>\n",
       "    <tr>\n",
       "      <th rowspan=\"3\" valign=\"top\">EG.ELC.ACCS.ZS</th>\n",
       "      <th>BRA</th>\n",
       "      <td>8.747512e+01</td>\n",
       "      <td>9.060654e+01</td>\n",
       "      <td>8.880383e+01</td>\n",
       "      <td>8.999993e+01</td>\n",
       "      <td>9.188373e+01</td>\n",
       "      <td>9.172860e+01</td>\n",
       "    </tr>\n",
       "    <tr>\n",
       "      <th>COL</th>\n",
       "      <td>8.990000e+01</td>\n",
       "      <td>9.183665e+01</td>\n",
       "      <td>9.213266e+01</td>\n",
       "      <td>9.242799e+01</td>\n",
       "      <td>9.272196e+01</td>\n",
       "      <td>9.120000e+01</td>\n",
       "    </tr>\n",
       "    <tr>\n",
       "      <th>PER</th>\n",
       "      <td>NaN</td>\n",
       "      <td>NaN</td>\n",
       "      <td>7.010000e+01</td>\n",
       "      <td>6.474899e+01</td>\n",
       "      <td>6.605293e+01</td>\n",
       "      <td>6.735484e+01</td>\n",
       "    </tr>\n",
       "    <tr>\n",
       "      <th rowspan=\"3\" valign=\"top\">SP.POP.TOTL</th>\n",
       "      <th>BRA</th>\n",
       "      <td>1.491432e+08</td>\n",
       "      <td>1.517243e+08</td>\n",
       "      <td>1.542751e+08</td>\n",
       "      <td>1.567946e+08</td>\n",
       "      <td>1.592650e+08</td>\n",
       "      <td>1.617351e+08</td>\n",
       "    </tr>\n",
       "    <tr>\n",
       "      <th>COL</th>\n",
       "      <td>3.244007e+07</td>\n",
       "      <td>3.309837e+07</td>\n",
       "      <td>3.376057e+07</td>\n",
       "      <td>3.444147e+07</td>\n",
       "      <td>3.512741e+07</td>\n",
       "      <td>3.580466e+07</td>\n",
       "    </tr>\n",
       "    <tr>\n",
       "      <th>PER</th>\n",
       "      <td>NaN</td>\n",
       "      <td>NaN</td>\n",
       "      <td>2.294634e+07</td>\n",
       "      <td>2.341378e+07</td>\n",
       "      <td>2.388149e+07</td>\n",
       "      <td>2.434892e+07</td>\n",
       "    </tr>\n",
       "  </tbody>\n",
       "</table>\n",
       "</div>"
      ],
      "text/plain": [
       "                              YR1990        YR1991        YR1992  \\\n",
       "series         economy                                             \n",
       "EG.ELC.ACCS.ZS BRA      8.747512e+01  9.060654e+01  8.880383e+01   \n",
       "               COL      8.990000e+01  9.183665e+01  9.213266e+01   \n",
       "               PER               NaN           NaN  7.010000e+01   \n",
       "SP.POP.TOTL    BRA      1.491432e+08  1.517243e+08  1.542751e+08   \n",
       "               COL      3.244007e+07  3.309837e+07  3.376057e+07   \n",
       "               PER               NaN           NaN  2.294634e+07   \n",
       "\n",
       "                              YR1993        YR1994        YR1995  \n",
       "series         economy                                            \n",
       "EG.ELC.ACCS.ZS BRA      8.999993e+01  9.188373e+01  9.172860e+01  \n",
       "               COL      9.242799e+01  9.272196e+01  9.120000e+01  \n",
       "               PER      6.474899e+01  6.605293e+01  6.735484e+01  \n",
       "SP.POP.TOTL    BRA      1.567946e+08  1.592650e+08  1.617351e+08  \n",
       "               COL      3.444147e+07  3.512741e+07  3.580466e+07  \n",
       "               PER      2.341378e+07  2.388149e+07  2.434892e+07  "
      ]
     },
     "execution_count": 20,
     "metadata": {},
     "output_type": "execute_result"
    }
   ],
   "source": [
    "elec_access = combined.xs('EG.ELC.ACCS.ZS')    # data frame for just a single variable\n",
    "combined = combined[elec_access.isna()==False] # mask out NaN values in other variables\n",
    "combined"
   ]
  },
  {
   "cell_type": "code",
   "execution_count": 21,
   "metadata": {},
   "outputs": [
    {
     "data": {
      "text/plain": [
       "YR1990    87.908324\n",
       "YR1991    90.826835\n",
       "YR1992    87.302276\n",
       "YR1993    87.635175\n",
       "YR1994    89.192463\n",
       "YR1995    88.968650\n",
       "dtype: float64"
      ]
     },
     "execution_count": 21,
     "metadata": {},
     "output_type": "execute_result"
    }
   ],
   "source": [
    "elec_access = combined.xs('EG.ELC.ACCS.ZS')\n",
    "pop = combined.xs('SP.POP.TOTL')\n",
    "(elec_access*pop).sum() / pop.sum()"
   ]
  },
  {
   "cell_type": "code",
   "execution_count": 22,
   "metadata": {},
   "outputs": [
    {
     "data": {
      "text/plain": [
       "ABW    A\n",
       "AFE    A\n",
       "AFG    A\n",
       "AFW    A\n",
       "AGO    A\n",
       "      ..\n",
       "XKX    K\n",
       "YEM    Y\n",
       "ZAF    S\n",
       "ZMB    Z\n",
       "ZWE    Z\n",
       "Name: Initial, Length: 266, dtype: object"
      ]
     },
     "execution_count": 22,
     "metadata": {},
     "output_type": "execute_result"
    }
   ],
   "source": [
    "c = wb.economy.DataFrame()\n",
    "c['Initial'] = c['name'].str[0]\n",
    "initial = c['Initial']\n",
    "\n",
    "# another way to the same thing\n",
    "initial = wb.economy.Series(name='Initial').apply(lambda n: n[0])\n",
    "\n",
    "initial"
   ]
  },
  {
   "cell_type": "code",
   "execution_count": 23,
   "metadata": {},
   "outputs": [
    {
     "data": {
      "text/html": [
       "<div>\n",
       "<style scoped>\n",
       "    .dataframe tbody tr th:only-of-type {\n",
       "        vertical-align: middle;\n",
       "    }\n",
       "\n",
       "    .dataframe tbody tr th {\n",
       "        vertical-align: top;\n",
       "    }\n",
       "\n",
       "    .dataframe thead th {\n",
       "        text-align: right;\n",
       "    }\n",
       "</style>\n",
       "<table border=\"1\" class=\"dataframe\">\n",
       "  <thead>\n",
       "    <tr style=\"text-align: right;\">\n",
       "      <th></th>\n",
       "      <th>YR1990</th>\n",
       "      <th>YR1991</th>\n",
       "      <th>YR1992</th>\n",
       "      <th>YR1993</th>\n",
       "      <th>YR1994</th>\n",
       "      <th>YR1995</th>\n",
       "    </tr>\n",
       "    <tr>\n",
       "      <th>Initial</th>\n",
       "      <th></th>\n",
       "      <th></th>\n",
       "      <th></th>\n",
       "      <th></th>\n",
       "      <th></th>\n",
       "      <th></th>\n",
       "    </tr>\n",
       "  </thead>\n",
       "  <tbody>\n",
       "    <tr>\n",
       "      <th>A</th>\n",
       "      <td>95.780387</td>\n",
       "      <td>95.952820</td>\n",
       "      <td>96.126616</td>\n",
       "      <td>96.297750</td>\n",
       "      <td>96.468972</td>\n",
       "      <td>96.640102</td>\n",
       "    </tr>\n",
       "    <tr>\n",
       "      <th>B</th>\n",
       "      <td>89.838599</td>\n",
       "      <td>62.530803</td>\n",
       "      <td>59.826296</td>\n",
       "      <td>59.682781</td>\n",
       "      <td>62.342033</td>\n",
       "      <td>62.355179</td>\n",
       "    </tr>\n",
       "    <tr>\n",
       "      <th>C</th>\n",
       "      <td>95.191828</td>\n",
       "      <td>88.595383</td>\n",
       "      <td>88.954841</td>\n",
       "      <td>89.166747</td>\n",
       "      <td>83.116034</td>\n",
       "      <td>81.322167</td>\n",
       "    </tr>\n",
       "    <tr>\n",
       "      <th>D</th>\n",
       "      <td>100.000000</td>\n",
       "      <td>87.222188</td>\n",
       "      <td>89.663119</td>\n",
       "      <td>90.051993</td>\n",
       "      <td>90.447886</td>\n",
       "      <td>90.856901</td>\n",
       "    </tr>\n",
       "    <tr>\n",
       "      <th>E</th>\n",
       "      <td>100.000000</td>\n",
       "      <td>76.332513</td>\n",
       "      <td>92.076353</td>\n",
       "      <td>93.946373</td>\n",
       "      <td>94.263941</td>\n",
       "      <td>91.881157</td>\n",
       "    </tr>\n",
       "    <tr>\n",
       "      <th>F</th>\n",
       "      <td>100.000000</td>\n",
       "      <td>100.000000</td>\n",
       "      <td>100.000000</td>\n",
       "      <td>100.000000</td>\n",
       "      <td>100.000000</td>\n",
       "      <td>100.000000</td>\n",
       "    </tr>\n",
       "    <tr>\n",
       "      <th>G</th>\n",
       "      <td>99.999760</td>\n",
       "      <td>99.999807</td>\n",
       "      <td>99.999854</td>\n",
       "      <td>88.494521</td>\n",
       "      <td>88.253563</td>\n",
       "      <td>86.068557</td>\n",
       "    </tr>\n",
       "    <tr>\n",
       "      <th>H</th>\n",
       "      <td>100.000000</td>\n",
       "      <td>89.096623</td>\n",
       "      <td>89.898608</td>\n",
       "      <td>90.270005</td>\n",
       "      <td>91.039354</td>\n",
       "      <td>76.030206</td>\n",
       "    </tr>\n",
       "    <tr>\n",
       "      <th>I</th>\n",
       "      <td>100.000000</td>\n",
       "      <td>62.177695</td>\n",
       "      <td>75.262775</td>\n",
       "      <td>54.384301</td>\n",
       "      <td>54.690727</td>\n",
       "      <td>56.554949</td>\n",
       "    </tr>\n",
       "    <tr>\n",
       "      <th>J</th>\n",
       "      <td>99.365228</td>\n",
       "      <td>99.515891</td>\n",
       "      <td>99.529516</td>\n",
       "      <td>99.543140</td>\n",
       "      <td>99.557136</td>\n",
       "      <td>99.571669</td>\n",
       "    </tr>\n",
       "    <tr>\n",
       "      <th>K</th>\n",
       "      <td>99.892055</td>\n",
       "      <td>99.918957</td>\n",
       "      <td>99.946693</td>\n",
       "      <td>69.348543</td>\n",
       "      <td>66.386924</td>\n",
       "      <td>72.708653</td>\n",
       "    </tr>\n",
       "    <tr>\n",
       "      <th>L</th>\n",
       "      <td>100.000000</td>\n",
       "      <td>100.000000</td>\n",
       "      <td>100.000000</td>\n",
       "      <td>71.539519</td>\n",
       "      <td>68.672293</td>\n",
       "      <td>67.803997</td>\n",
       "    </tr>\n",
       "    <tr>\n",
       "      <th>M</th>\n",
       "      <td>99.801353</td>\n",
       "      <td>99.808214</td>\n",
       "      <td>71.247142</td>\n",
       "      <td>73.941854</td>\n",
       "      <td>74.291011</td>\n",
       "      <td>74.398664</td>\n",
       "    </tr>\n",
       "    <tr>\n",
       "      <th>N</th>\n",
       "      <td>42.095137</td>\n",
       "      <td>48.265436</td>\n",
       "      <td>45.680094</td>\n",
       "      <td>46.882341</td>\n",
       "      <td>47.269657</td>\n",
       "      <td>47.825363</td>\n",
       "    </tr>\n",
       "    <tr>\n",
       "      <th>O</th>\n",
       "      <td>100.000000</td>\n",
       "      <td>100.000000</td>\n",
       "      <td>100.000000</td>\n",
       "      <td>100.000000</td>\n",
       "      <td>100.000000</td>\n",
       "      <td>100.000000</td>\n",
       "    </tr>\n",
       "    <tr>\n",
       "      <th>P</th>\n",
       "      <td>98.644944</td>\n",
       "      <td>98.771710</td>\n",
       "      <td>90.286212</td>\n",
       "      <td>77.838038</td>\n",
       "      <td>79.140048</td>\n",
       "      <td>79.684509</td>\n",
       "    </tr>\n",
       "    <tr>\n",
       "      <th>Q</th>\n",
       "      <td>100.000000</td>\n",
       "      <td>100.000000</td>\n",
       "      <td>100.000000</td>\n",
       "      <td>100.000000</td>\n",
       "      <td>100.000000</td>\n",
       "      <td>100.000000</td>\n",
       "    </tr>\n",
       "    <tr>\n",
       "      <th>R</th>\n",
       "      <td>100.000000</td>\n",
       "      <td>100.000000</td>\n",
       "      <td>95.806765</td>\n",
       "      <td>100.000000</td>\n",
       "      <td>100.000000</td>\n",
       "      <td>100.000000</td>\n",
       "    </tr>\n",
       "    <tr>\n",
       "      <th>S</th>\n",
       "      <td>85.925218</td>\n",
       "      <td>84.501869</td>\n",
       "      <td>84.505296</td>\n",
       "      <td>80.307182</td>\n",
       "      <td>80.289492</td>\n",
       "      <td>80.303349</td>\n",
       "    </tr>\n",
       "    <tr>\n",
       "      <th>T</th>\n",
       "      <td>88.700000</td>\n",
       "      <td>91.053909</td>\n",
       "      <td>6.839962</td>\n",
       "      <td>2.373276</td>\n",
       "      <td>23.054019</td>\n",
       "      <td>24.001586</td>\n",
       "    </tr>\n",
       "    <tr>\n",
       "      <th>U</th>\n",
       "      <td>100.000000</td>\n",
       "      <td>95.521974</td>\n",
       "      <td>99.967750</td>\n",
       "      <td>99.969418</td>\n",
       "      <td>94.955537</td>\n",
       "      <td>95.185852</td>\n",
       "    </tr>\n",
       "    <tr>\n",
       "      <th>V</th>\n",
       "      <td>100.000000</td>\n",
       "      <td>100.000000</td>\n",
       "      <td>97.831235</td>\n",
       "      <td>98.248316</td>\n",
       "      <td>97.735132</td>\n",
       "      <td>98.364642</td>\n",
       "    </tr>\n",
       "    <tr>\n",
       "      <th>W</th>\n",
       "      <td>NaN</td>\n",
       "      <td>NaN</td>\n",
       "      <td>NaN</td>\n",
       "      <td>NaN</td>\n",
       "      <td>NaN</td>\n",
       "      <td>NaN</td>\n",
       "    </tr>\n",
       "    <tr>\n",
       "      <th>Y</th>\n",
       "      <td>NaN</td>\n",
       "      <td>NaN</td>\n",
       "      <td>44.100000</td>\n",
       "      <td>40.774715</td>\n",
       "      <td>41.985134</td>\n",
       "      <td>43.193512</td>\n",
       "    </tr>\n",
       "    <tr>\n",
       "      <th>Z</th>\n",
       "      <td>13.900000</td>\n",
       "      <td>12.752703</td>\n",
       "      <td>24.302090</td>\n",
       "      <td>23.784013</td>\n",
       "      <td>22.297841</td>\n",
       "      <td>24.710103</td>\n",
       "    </tr>\n",
       "  </tbody>\n",
       "</table>\n",
       "</div>"
      ],
      "text/plain": [
       "             YR1990      YR1991      YR1992      YR1993      YR1994  \\\n",
       "Initial                                                               \n",
       "A         95.780387   95.952820   96.126616   96.297750   96.468972   \n",
       "B         89.838599   62.530803   59.826296   59.682781   62.342033   \n",
       "C         95.191828   88.595383   88.954841   89.166747   83.116034   \n",
       "D        100.000000   87.222188   89.663119   90.051993   90.447886   \n",
       "E        100.000000   76.332513   92.076353   93.946373   94.263941   \n",
       "F        100.000000  100.000000  100.000000  100.000000  100.000000   \n",
       "G         99.999760   99.999807   99.999854   88.494521   88.253563   \n",
       "H        100.000000   89.096623   89.898608   90.270005   91.039354   \n",
       "I        100.000000   62.177695   75.262775   54.384301   54.690727   \n",
       "J         99.365228   99.515891   99.529516   99.543140   99.557136   \n",
       "K         99.892055   99.918957   99.946693   69.348543   66.386924   \n",
       "L        100.000000  100.000000  100.000000   71.539519   68.672293   \n",
       "M         99.801353   99.808214   71.247142   73.941854   74.291011   \n",
       "N         42.095137   48.265436   45.680094   46.882341   47.269657   \n",
       "O        100.000000  100.000000  100.000000  100.000000  100.000000   \n",
       "P         98.644944   98.771710   90.286212   77.838038   79.140048   \n",
       "Q        100.000000  100.000000  100.000000  100.000000  100.000000   \n",
       "R        100.000000  100.000000   95.806765  100.000000  100.000000   \n",
       "S         85.925218   84.501869   84.505296   80.307182   80.289492   \n",
       "T         88.700000   91.053909    6.839962    2.373276   23.054019   \n",
       "U        100.000000   95.521974   99.967750   99.969418   94.955537   \n",
       "V        100.000000  100.000000   97.831235   98.248316   97.735132   \n",
       "W               NaN         NaN         NaN         NaN         NaN   \n",
       "Y               NaN         NaN   44.100000   40.774715   41.985134   \n",
       "Z         13.900000   12.752703   24.302090   23.784013   22.297841   \n",
       "\n",
       "             YR1995  \n",
       "Initial              \n",
       "A         96.640102  \n",
       "B         62.355179  \n",
       "C         81.322167  \n",
       "D         90.856901  \n",
       "E         91.881157  \n",
       "F        100.000000  \n",
       "G         86.068557  \n",
       "H         76.030206  \n",
       "I         56.554949  \n",
       "J         99.571669  \n",
       "K         72.708653  \n",
       "L         67.803997  \n",
       "M         74.398664  \n",
       "N         47.825363  \n",
       "O        100.000000  \n",
       "P         79.684509  \n",
       "Q        100.000000  \n",
       "R        100.000000  \n",
       "S         80.303349  \n",
       "T         24.001586  \n",
       "U         95.185852  \n",
       "V         98.364642  \n",
       "W               NaN  \n",
       "Y         43.193512  \n",
       "Z         24.710103  "
      ]
     },
     "execution_count": 23,
     "metadata": {},
     "output_type": "execute_result"
    }
   ],
   "source": [
    "# This time we'll pull all countries, not just 3. Be sure to exclude aggregate regions\n",
    "# like World or Sub-Saharan Africa\n",
    "combined = wb.data.DataFrame(['EG.ELC.ACCS.ZS', 'SP.POP.TOTL'], skipAggs=True,\n",
    "                             time=range(1990,1996), index=['series', 'economy'])\n",
    "elec_access = combined.xs('EG.ELC.ACCS.ZS')\n",
    "\n",
    "# mask out observations in the weight variable that are missing from the aggregated variable\n",
    "combined = combined[elec_access.isna()==False]\n",
    "\n",
    "pop = combined.xs('SP.POP.TOTL')\n",
    "\n",
    "numerator   = (elec_access * pop).join(initial).groupby('Initial').sum()\n",
    "denominator = pop.join(initial).groupby('Initial').sum()\n",
    "\n",
    "numerator / denominator"
   ]
  },
  {
   "cell_type": "code",
   "execution_count": null,
   "metadata": {},
   "outputs": [
    {
     "name": "stdout",
     "output_type": "stream",
     "text": [
      "Dash app running on http://127.0.0.1:8050/\n"
     ]
    },
    {
     "name": "stderr",
     "output_type": "stream",
     "text": [
      "c:\\Users\\marro\\AppData\\Local\\Programs\\Python\\Python313\\Lib\\site-packages\\dash\\dash.py:579: UserWarning:\n",
      "\n",
      "JupyterDash is deprecated, use Dash instead.\n",
      "See https://dash.plotly.com/dash-in-jupyter for more details.\n",
      "\n"
     ]
    }
   ],
   "source": [
    "# Fetch the data using wbdata for Poverty Rate (SI.POV.NAHC)\n",
    "df_poverty = wb.data.DataFrame('SI.POV.NAHC', \n",
    "                               mrnev=1, \n",
    "                               columns='time', \n",
    "                               numericTimeKeys=True)\n",
    "df_poverty = df_poverty.transpose()\n",
    "\n",
    "# 1. Visual for GDP per Capita (Brazil, Argentina, Colombia)\n",
    "df_gdp_brazil = wb.data.DataFrame('NY.GDP.PCAP.CD', \n",
    "                                  economy=['BRA', 'ARG', 'COL'],\n",
    "                                  time=range(2000, 2020), \n",
    "                                  index='time')\n",
    "\n",
    "# Convert to Plotly\n",
    "fig_gdp_brazil = px.line(df_gdp_brazil, \n",
    "                          title=\"GDP per Capita (Brazil, Argentina, Colombia)\", \n",
    "                          labels={'value': 'GDP per Capita (USD)', 'time': 'Year', 'variable': 'Country'},\n",
    "                          markers=True)\n",
    "\n",
    "# 2. Visual for Distribution of Poverty Rate (Bar Graph)\n",
    "# Use the \"df_poverty\" data frame for the bar chart\n",
    "poverty_counts = df_poverty.count(axis=1)\n",
    "fig_poverty = px.bar(x=poverty_counts.index, \n",
    "                     y=poverty_counts, \n",
    "                     title=\"Distribution of Poverty Rate MRVs\", \n",
    "                     labels={'x': 'Year', 'y': 'Poverty Rate (%)'})\n",
    "\n",
    "# 3. Visual for Population Estimates Over Time\n",
    "# Example data for demonstration purposes, replace with actual data\n",
    "years = np.arange(2000, 2020)\n",
    "population_data = np.random.random(20) * 100000000  # Random data for demonstration\n",
    "\n",
    "# Plot as line chart\n",
    "fig_population = px.line(x=years, \n",
    "                         y=population_data, \n",
    "                         title=\"Population Estimates Over Time\", \n",
    "                         labels={'x': 'Year', 'y': 'Population'})\n",
    "\n",
    "# Initialize the Dash app\n",
    "app = JupyterDash(__name__, external_stylesheets=[dbc.themes.LUX])\n",
    "\n",
    "# Define Navbar\n",
    "navbar = dbc.NavbarSimple(\n",
    "    children=[\n",
    "        dbc.NavItem(dbc.NavLink(\"Home\", href=\"/home\", active=\"exact\")),\n",
    "        dbc.NavItem(dbc.NavLink(\"About Me\", href=\"/about\", active=\"exact\")),\n",
    "    ],\n",
    "    brand=\"Global Development Dashboard\",\n",
    "    brand_href=\"/home\",\n",
    "    color=\"primary\",\n",
    "    dark=True,\n",
    "    className=\"mb-4\"\n",
    ")\n",
    "\n",
    "# Home Layout\n",
    "home_layout = html.Div([\n",
    "    # Main Panel for Home Layout with the 3 tabs\n",
    "    html.Div([\n",
    "        dcc.Tabs([\n",
    "            dcc.Tab(label='GDP per Capita (Brazil, Argentina, Colombia)', children=[\n",
    "                html.Div([\n",
    "                    dcc.Graph(id='gdp-brazil-graph', figure=fig_gdp_brazil),\n",
    "                ]),\n",
    "            ]),\n",
    "            dcc.Tab(label='Poverty Rate Distribution', children=[\n",
    "                html.Div([\n",
    "                    dcc.Graph(id='poverty-graph', figure=fig_poverty),\n",
    "                ]),\n",
    "            ]),\n",
    "            dcc.Tab(label='Population Estimates', children=[\n",
    "                html.Div([\n",
    "                    dcc.Graph(id='population-graph', figure=fig_population),\n",
    "                ]),\n",
    "            ]),\n",
    "        ])\n",
    "    ], style={'padding': '20px'})\n",
    "])\n",
    "\n",
    "# About Layout\n",
    "about_layout = html.Div([\n",
    "    html.H1(\"About This Dashboard\"),\n",
    "    html.P(\"\"\"\n",
    "        This dashboard provides an interactive way to explore key development indicators\n",
    "        such as GDP per capita, poverty rate distribution, and population estimates over time.\n",
    "        The visualizations offer insights into these metrics for various countries and regions,\n",
    "        helping to understand global development trends.\n",
    "    \"\"\"),\n",
    "    html.P(\"\"\"\n",
    "        Built with Python, Dash, Plotly, and Bootstrap, this dashboard is designed to allow\n",
    "        users to interact with and analyze data, offering a dynamic and engaging user experience.\n",
    "    \"\"\")\n",
    "])\n",
    "\n",
    "# Main Layout\n",
    "app.layout = html.Div([\n",
    "    dcc.Location(id='url', refresh=False),  # URL handling for routing\n",
    "    navbar,\n",
    "    html.Div(id='page-content', style={'padding': '20px'})\n",
    "])\n",
    "\n",
    "# Callbacks for handling page routing and updating content\n",
    "@app.callback(\n",
    "    Output('page-content', 'children'),\n",
    "    [Input('url', 'pathname')]\n",
    ")\n",
    "def display_page(pathname):\n",
    "    if pathname == '/about':\n",
    "        return about_layout\n",
    "    # Default to home layout\n",
    "    return home_layout\n",
    "\n",
    "# Run the app\n",
    "app.run(jupyter_mode='external',debug=True) #port=8071\n"
   ]
  },
  {
   "cell_type": "code",
   "execution_count": 27,
   "metadata": {},
   "outputs": [
    {
     "name": "stderr",
     "output_type": "stream",
     "text": [
      "c:\\Users\\marro\\AppData\\Local\\Programs\\Python\\Python313\\Lib\\site-packages\\dash\\dash.py:579: UserWarning:\n",
      "\n",
      "JupyterDash is deprecated, use Dash instead.\n",
      "See https://dash.plotly.com/dash-in-jupyter for more details.\n",
      "\n"
     ]
    },
    {
     "data": {
      "text/html": [
       "\n",
       "        <iframe\n",
       "            width=\"100%\"\n",
       "            height=\"650\"\n",
       "            src=\"http://127.0.0.1:8050/\"\n",
       "            frameborder=\"0\"\n",
       "            allowfullscreen\n",
       "            \n",
       "        ></iframe>\n",
       "        "
      ],
      "text/plain": [
       "<IPython.lib.display.IFrame at 0x26123e36490>"
      ]
     },
     "metadata": {},
     "output_type": "display_data"
    }
   ],
   "source": [
    "# Fetch the data using wbdata for Poverty Rate (SI.POV.NAHC)\n",
    "df_poverty = wb.data.DataFrame('SI.POV.NAHC', \n",
    "                               mrnev=1, \n",
    "                               columns='time', \n",
    "                               numericTimeKeys=True)\n",
    "df_poverty = df_poverty.transpose()\n",
    "\n",
    "# 1. Visual for GDP per Capita (Brazil, Argentina, Colombia)\n",
    "df_gdp_brazil = wb.data.DataFrame('NY.GDP.PCAP.CD', \n",
    "                                  economy=['BRA', 'ARG', 'COL'],\n",
    "                                  time=range(2000, 2020), \n",
    "                                  index='time')\n",
    "\n",
    "# Convert to Plotly\n",
    "fig_gdp_brazil = px.line(df_gdp_brazil, \n",
    "                          title=\"GDP per Capita (Brazil, Argentina, Colombia)\", \n",
    "                          labels={'value': 'GDP per Capita (USD)', 'time': 'Year', 'variable': 'Country'},\n",
    "                          markers=True)\n",
    "\n",
    "# 2. Visual for Distribution of Poverty Rate (Bar Graph)\n",
    "# Use the \"df_poverty\" data frame for the bar chart\n",
    "poverty_counts = df_poverty.count(axis=1)\n",
    "fig_poverty = px.bar(x=poverty_counts.index, \n",
    "                     y=poverty_counts, \n",
    "                     title=\"Distribution of Poverty Rate MRVs\", \n",
    "                     labels={'x': 'Year', 'y': 'Poverty Rate (%)'})\n",
    "\n",
    "# 3. Visual for Population Estimates Over Time\n",
    "# Example data for demonstration purposes, replace with actual data\n",
    "years = np.arange(2000, 2020)\n",
    "population_data = np.random.random(20) * 100000000  # Random data for demonstration\n",
    "\n",
    "# Plot as line chart\n",
    "fig_population = px.line(x=years, \n",
    "                         y=population_data, \n",
    "                         title=\"Population Estimates Over Time\", \n",
    "                         labels={'x': 'Year', 'y': 'Population'})\n",
    "\n",
    "# Initialize the Dash app\n",
    "app = JupyterDash(__name__, external_stylesheets=[dbc.themes.LUX])\n",
    "\n",
    "# Define Navbar\n",
    "navbar = dbc.NavbarSimple(\n",
    "    children=[\n",
    "        dbc.NavItem(dbc.NavLink(\"Home\", href=\"/home\", active=\"exact\")),\n",
    "        dbc.NavItem(dbc.NavLink(\"About Me\", href=\"/about\", active=\"exact\")),\n",
    "    ],\n",
    "    brand=\"Global Development Dashboard\",\n",
    "    brand_href=\"/home\",\n",
    "    color=\"primary\",\n",
    "    dark=True,\n",
    "    className=\"mb-4\"\n",
    ")\n",
    "\n",
    "# Home Layout\n",
    "home_layout = html.Div([\n",
    "    # Main Panel for Home Layout with the 3 tabs\n",
    "    html.Div([\n",
    "        dcc.Tabs([\n",
    "            dcc.Tab(label='GDP per Capita (Brazil, Argentina, Colombia)', children=[\n",
    "                html.Div([\n",
    "                    dcc.Graph(id='gdp-brazil-graph', figure=fig_gdp_brazil),\n",
    "                ]),\n",
    "            ]),\n",
    "            dcc.Tab(label='Poverty Rate Distribution', children=[\n",
    "                html.Div([\n",
    "                    dcc.Graph(id='poverty-graph', figure=fig_poverty),\n",
    "                ]),\n",
    "            ]),\n",
    "            dcc.Tab(label='Population Estimates', children=[\n",
    "                html.Div([\n",
    "                    dcc.Graph(id='population-graph', figure=fig_population),\n",
    "                ]),\n",
    "            ]),\n",
    "        ])\n",
    "    ], style={'padding': '20px'})\n",
    "])\n",
    "\n",
    "# About Layout\n",
    "about_layout = html.Div([\n",
    "    html.H1(\"About This Dashboard\"),\n",
    "    html.P(\"\"\"\n",
    "        This dashboard provides an interactive way to explore key development indicators\n",
    "        such as GDP per capita, poverty rate distribution, and population estimates over time.\n",
    "        The visualizations offer insights into these metrics for various countries and regions,\n",
    "        helping to understand global development trends.\n",
    "    \"\"\"),\n",
    "    html.P(\"\"\"\n",
    "        Built with Python, Dash, Plotly, and Bootstrap, this dashboard is designed to allow\n",
    "        users to interact with and analyze data, offering a dynamic and engaging user experience.\n",
    "    \"\"\")\n",
    "])\n",
    "\n",
    "# Main Layout\n",
    "app.layout = html.Div([\n",
    "    dcc.Location(id='url', refresh=False),  # URL handling for routing\n",
    "    navbar,\n",
    "    html.Div(id='page-content', style={'padding': '20px'})\n",
    "])\n",
    "\n",
    "# Callbacks for handling page routing and updating content\n",
    "@app.callback(\n",
    "    Output('page-content', 'children'),\n",
    "    [Input('url', 'pathname')]\n",
    ")\n",
    "def display_page(pathname):\n",
    "    if pathname == '/about':\n",
    "        return about_layout\n",
    "    # Default to home layout\n",
    "    return home_layout\n",
    "\n",
    "# Run the app\n",
    "app.run(jupyter_mode='inline',debug=True, use_reloader=False) #port=8071\n"
   ]
  },
  {
   "cell_type": "code",
   "execution_count": null,
   "metadata": {},
   "outputs": [],
   "source": []
  }
 ],
 "metadata": {
  "kernelspec": {
   "display_name": "Python 3",
   "language": "python",
   "name": "python3"
  },
  "language_info": {
   "codemirror_mode": {
    "name": "ipython",
    "version": 3
   },
   "file_extension": ".py",
   "mimetype": "text/x-python",
   "name": "python",
   "nbconvert_exporter": "python",
   "pygments_lexer": "ipython3",
   "version": "3.13.0"
  }
 },
 "nbformat": 4,
 "nbformat_minor": 2
}
